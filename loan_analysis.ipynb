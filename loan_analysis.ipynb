{
 "cells": [
  {
   "cell_type": "markdown",
   "id": "assisted-snapshot",
   "metadata": {
    "toc": true
   },
   "source": [
    "<h1>Table of Contents<span class=\"tocSkip\"></span></h1>\n",
    "<div class=\"toc\"><ul class=\"toc-item\"><li><span><a href=\"#The-Data-Source\" data-toc-modified-id=\"The-Data-Source-1\"><span class=\"toc-item-num\">1&nbsp;&nbsp;</span>The Data Source</a></span></li><li><span><a href=\"#Problem-Statement\" data-toc-modified-id=\"Problem-Statement-2\"><span class=\"toc-item-num\">2&nbsp;&nbsp;</span>Problem Statement</a></span></li><li><span><a href=\"#Data-Cleaning\" data-toc-modified-id=\"Data-Cleaning-3\"><span class=\"toc-item-num\">3&nbsp;&nbsp;</span>Data Cleaning</a></span></li><li><span><a href=\"#Evaluation-(Explanatory-Data-Analysis)\" data-toc-modified-id=\"Evaluation-(Explanatory-Data-Analysis)-4\"><span class=\"toc-item-num\">4&nbsp;&nbsp;</span>Evaluation (Explanatory Data Analysis)</a></span><ul class=\"toc-item\"><li><span><a href=\"#Employment-History\" data-toc-modified-id=\"Employment-History-4.1\"><span class=\"toc-item-num\">4.1&nbsp;&nbsp;</span>Employment History</a></span><ul class=\"toc-item\"><li><span><a href=\"#Note:\" data-toc-modified-id=\"Note:-4.1.1\"><span class=\"toc-item-num\">4.1.1&nbsp;&nbsp;</span>Note:</a></span></li></ul></li><li><span><a href=\"#Funded-Amount\" data-toc-modified-id=\"Funded-Amount-4.2\"><span class=\"toc-item-num\">4.2&nbsp;&nbsp;</span>Funded Amount</a></span></li><li><span><a href=\"#Annual-Income\" data-toc-modified-id=\"Annual-Income-4.3\"><span class=\"toc-item-num\">4.3&nbsp;&nbsp;</span>Annual Income</a></span><ul class=\"toc-item\"><li><span><a href=\"#Notes---histogram,-scatterplot\" data-toc-modified-id=\"Notes---histogram,-scatterplot-4.3.1\"><span class=\"toc-item-num\">4.3.1&nbsp;&nbsp;</span>Notes - histogram, scatterplot</a></span></li></ul></li><li><span><a href=\"#Loan-Status\" data-toc-modified-id=\"Loan-Status-4.4\"><span class=\"toc-item-num\">4.4&nbsp;&nbsp;</span>Loan Status</a></span><ul class=\"toc-item\"><li><span><a href=\"#Note:\" data-toc-modified-id=\"Note:-4.4.1\"><span class=\"toc-item-num\">4.4.1&nbsp;&nbsp;</span>Note:</a></span></li></ul></li><li><span><a href=\"#Loan-Status---remove-noise\" data-toc-modified-id=\"Loan-Status---remove-noise-4.5\"><span class=\"toc-item-num\">4.5&nbsp;&nbsp;</span>Loan Status - remove noise</a></span><ul class=\"toc-item\"><li><span><a href=\"#Note:\" data-toc-modified-id=\"Note:-4.5.1\"><span class=\"toc-item-num\">4.5.1&nbsp;&nbsp;</span>Note:</a></span></li></ul></li><li><span><a href=\"#Grade---data-clean\" data-toc-modified-id=\"Grade---data-clean-4.6\"><span class=\"toc-item-num\">4.6&nbsp;&nbsp;</span>Grade - data clean</a></span><ul class=\"toc-item\"><li><span><a href=\"#Note:\" data-toc-modified-id=\"Note:-4.6.1\"><span class=\"toc-item-num\">4.6.1&nbsp;&nbsp;</span>Note:</a></span></li></ul></li><li><span><a href=\"#Home-Ownership\" data-toc-modified-id=\"Home-Ownership-4.7\"><span class=\"toc-item-num\">4.7&nbsp;&nbsp;</span>Home Ownership</a></span><ul class=\"toc-item\"><li><span><a href=\"#Note:\" data-toc-modified-id=\"Note:-4.7.1\"><span class=\"toc-item-num\">4.7.1&nbsp;&nbsp;</span>Note:</a></span></li></ul></li><li><span><a href=\"#Analysis-of-features\" data-toc-modified-id=\"Analysis-of-features-4.8\"><span class=\"toc-item-num\">4.8&nbsp;&nbsp;</span>Analysis of features</a></span><ul class=\"toc-item\"><li><span><a href=\"#Note:\" data-toc-modified-id=\"Note:-4.8.1\"><span class=\"toc-item-num\">4.8.1&nbsp;&nbsp;</span>Note:</a></span></li><li><span><a href=\"#Notes\" data-toc-modified-id=\"Notes-4.8.2\"><span class=\"toc-item-num\">4.8.2&nbsp;&nbsp;</span>Notes</a></span></li></ul></li></ul></li><li><span><a href=\"#Models\" data-toc-modified-id=\"Models-5\"><span class=\"toc-item-num\">5&nbsp;&nbsp;</span>Models</a></span><ul class=\"toc-item\"><li><span><a href=\"#Logistic-Regression\" data-toc-modified-id=\"Logistic-Regression-5.1\"><span class=\"toc-item-num\">5.1&nbsp;&nbsp;</span>Logistic Regression</a></span><ul class=\"toc-item\"><li><span><a href=\"#loan-status-,-annual-income---no-sampling-done\" data-toc-modified-id=\"loan-status-,-annual-income---no-sampling-done-5.1.1\"><span class=\"toc-item-num\">5.1.1&nbsp;&nbsp;</span>loan status , annual income - no sampling done</a></span></li><li><span><a href=\"#loan-status,-employment-length,-grade\" data-toc-modified-id=\"loan-status,-employment-length,-grade-5.1.2\"><span class=\"toc-item-num\">5.1.2&nbsp;&nbsp;</span>loan status, employment length, grade</a></span></li><li><span><a href=\"#loan-status,-annual-income---Oversample,-Undersample\" data-toc-modified-id=\"loan-status,-annual-income---Oversample,-Undersample-5.1.3\"><span class=\"toc-item-num\">5.1.3&nbsp;&nbsp;</span>loan status, annual income - Oversample, Undersample</a></span></li><li><span><a href=\"#loan-status,-employment-length,-grade\" data-toc-modified-id=\"loan-status,-employment-length,-grade-5.1.4\"><span class=\"toc-item-num\">5.1.4&nbsp;&nbsp;</span>loan status, employment length, grade</a></span></li></ul></li></ul></li><li><span><a href=\"#did-not-include-grade\" data-toc-modified-id=\"did-not-include-grade-6\"><span class=\"toc-item-num\">6&nbsp;&nbsp;</span>did not include grade</a></span><ul class=\"toc-item\"><li><ul class=\"toc-item\"><li><span><a href=\"#loan-status-interest-rate\" data-toc-modified-id=\"loan-status-interest-rate-6.0.1\"><span class=\"toc-item-num\">6.0.1&nbsp;&nbsp;</span>loan status interest rate</a></span></li><li><span><a href=\"#homeownership\" data-toc-modified-id=\"homeownership-6.0.2\"><span class=\"toc-item-num\">6.0.2&nbsp;&nbsp;</span>homeownership</a></span></li></ul></li></ul></li></ul></div>"
   ]
  },
  {
   "cell_type": "markdown",
   "id": "exterior-application",
   "metadata": {},
   "source": [
    "## The Data Source"
   ]
  },
  {
   "cell_type": "markdown",
   "id": "occupational-visiting",
   "metadata": {},
   "source": [
    "Source:\n",
    "https://www.lendingclub.com/info/download-data.action"
   ]
  },
  {
   "cell_type": "markdown",
   "id": "moderate-shelf",
   "metadata": {},
   "source": [
    "- LendingClub is a peer-to-peer lending company with its headquarters in San Francisco, California, began by operating as an online consumer-lending platform that enables borrowers to obtain an unsecured loan that's funded by individuals and insititutions. \n",
    "\n",
    "- The data from LendingClub is from 2007 to 2018Q4. We will evaluate a (2) year period - 2015, 2016.\n",
    "\n",
    "- There was a housing crisis from 2007-2012 that caused many borrowers to obtain unsecured loans at high interest rates.  The unemployment rates were very high until 2014 when when it began to level off.  By 2015-2016, the unemployment was at a \"natural rate\" average rate of 4.85%."
   ]
  },
  {
   "cell_type": "markdown",
   "id": "wrong-phone",
   "metadata": {},
   "source": [
    "## Problem Statement\n",
    "The goal, using Machine Learning models and some of the features in the data set, is to determine if someone defaulting on their loan."
   ]
  },
  {
   "cell_type": "code",
   "execution_count": 1,
   "id": "transparent-serve",
   "metadata": {},
   "outputs": [],
   "source": [
    "#import libraries\n",
    "import numpy as np\n",
    "import pandas as pd\n",
    "from nltk.corpus import stopwords\n",
    "#import re\n",
    "from sklearn.preprocessing import StandardScaler\n",
    "import matplotlib.pyplot as plt\n",
    "import seaborn as sns\n",
    "\n",
    "# Import train_test_split.\n",
    "from sklearn.model_selection import train_test_split\n",
    "# Import logistic regression\n",
    "from sklearn.linear_model import LogisticRegression\n",
    "\n",
    "%matplotlib inline"
   ]
  },
  {
   "cell_type": "code",
   "execution_count": 2,
   "id": "valued-government",
   "metadata": {},
   "outputs": [],
   "source": [
    "#import the data\n",
    "loan2 = pd.read_csv('./LoanStats/loans_with_date.csv', low_memory=False)"
   ]
  },
  {
   "cell_type": "markdown",
   "id": "going-stewart",
   "metadata": {},
   "source": [
    "There are 149 features in this dataset.  Some of them were used in the loan process.  We streamlined the features that are important for this analysis and created a new dataset.   "
   ]
  },
  {
   "cell_type": "markdown",
   "id": "minor-sport",
   "metadata": {},
   "source": [
    "## Data Cleaning"
   ]
  },
  {
   "cell_type": "code",
   "execution_count": 3,
   "id": "arranged-stopping",
   "metadata": {},
   "outputs": [
    {
     "name": "stdout",
     "output_type": "stream",
     "text": [
      " The shape of the data is (2260701, 14)\n"
     ]
    },
    {
     "data": {
      "text/html": [
       "<div>\n",
       "<style scoped>\n",
       "    .dataframe tbody tr th:only-of-type {\n",
       "        vertical-align: middle;\n",
       "    }\n",
       "\n",
       "    .dataframe tbody tr th {\n",
       "        vertical-align: top;\n",
       "    }\n",
       "\n",
       "    .dataframe thead th {\n",
       "        text-align: right;\n",
       "    }\n",
       "</style>\n",
       "<table border=\"1\" class=\"dataframe\">\n",
       "  <thead>\n",
       "    <tr style=\"text-align: right;\">\n",
       "      <th></th>\n",
       "      <th>Unnamed: 0</th>\n",
       "      <th>funded_amnt</th>\n",
       "      <th>emp_length</th>\n",
       "      <th>annual_inc</th>\n",
       "      <th>loan_status</th>\n",
       "      <th>home_ownership</th>\n",
       "      <th>int_rate</th>\n",
       "      <th>addr_state</th>\n",
       "      <th>grade</th>\n",
       "      <th>issue_d</th>\n",
       "      <th>purpose</th>\n",
       "      <th>dti</th>\n",
       "      <th>term</th>\n",
       "      <th>zip_code</th>\n",
       "    </tr>\n",
       "  </thead>\n",
       "  <tbody>\n",
       "    <tr>\n",
       "      <th>0</th>\n",
       "      <td>0</td>\n",
       "      <td>3600.0</td>\n",
       "      <td>10+ years</td>\n",
       "      <td>55000.0</td>\n",
       "      <td>Fully Paid</td>\n",
       "      <td>MORTGAGE</td>\n",
       "      <td>13.99</td>\n",
       "      <td>PA</td>\n",
       "      <td>C</td>\n",
       "      <td>Dec-2015</td>\n",
       "      <td>debt_consolidation</td>\n",
       "      <td>5.91</td>\n",
       "      <td>36 months</td>\n",
       "      <td>190xx</td>\n",
       "    </tr>\n",
       "    <tr>\n",
       "      <th>1</th>\n",
       "      <td>1</td>\n",
       "      <td>24700.0</td>\n",
       "      <td>10+ years</td>\n",
       "      <td>65000.0</td>\n",
       "      <td>Fully Paid</td>\n",
       "      <td>MORTGAGE</td>\n",
       "      <td>11.99</td>\n",
       "      <td>SD</td>\n",
       "      <td>C</td>\n",
       "      <td>Dec-2015</td>\n",
       "      <td>small_business</td>\n",
       "      <td>16.06</td>\n",
       "      <td>36 months</td>\n",
       "      <td>577xx</td>\n",
       "    </tr>\n",
       "    <tr>\n",
       "      <th>2</th>\n",
       "      <td>2</td>\n",
       "      <td>20000.0</td>\n",
       "      <td>10+ years</td>\n",
       "      <td>63000.0</td>\n",
       "      <td>Fully Paid</td>\n",
       "      <td>MORTGAGE</td>\n",
       "      <td>10.78</td>\n",
       "      <td>IL</td>\n",
       "      <td>B</td>\n",
       "      <td>Dec-2015</td>\n",
       "      <td>home_improvement</td>\n",
       "      <td>10.78</td>\n",
       "      <td>60 months</td>\n",
       "      <td>605xx</td>\n",
       "    </tr>\n",
       "    <tr>\n",
       "      <th>3</th>\n",
       "      <td>3</td>\n",
       "      <td>35000.0</td>\n",
       "      <td>10+ years</td>\n",
       "      <td>110000.0</td>\n",
       "      <td>Current</td>\n",
       "      <td>MORTGAGE</td>\n",
       "      <td>14.85</td>\n",
       "      <td>NJ</td>\n",
       "      <td>C</td>\n",
       "      <td>Dec-2015</td>\n",
       "      <td>debt_consolidation</td>\n",
       "      <td>17.06</td>\n",
       "      <td>60 months</td>\n",
       "      <td>076xx</td>\n",
       "    </tr>\n",
       "    <tr>\n",
       "      <th>4</th>\n",
       "      <td>4</td>\n",
       "      <td>10400.0</td>\n",
       "      <td>3 years</td>\n",
       "      <td>104433.0</td>\n",
       "      <td>Fully Paid</td>\n",
       "      <td>MORTGAGE</td>\n",
       "      <td>22.45</td>\n",
       "      <td>PA</td>\n",
       "      <td>F</td>\n",
       "      <td>Dec-2015</td>\n",
       "      <td>major_purchase</td>\n",
       "      <td>25.37</td>\n",
       "      <td>60 months</td>\n",
       "      <td>174xx</td>\n",
       "    </tr>\n",
       "  </tbody>\n",
       "</table>\n",
       "</div>"
      ],
      "text/plain": [
       "   Unnamed: 0  funded_amnt emp_length  annual_inc loan_status home_ownership  \\\n",
       "0           0       3600.0  10+ years     55000.0  Fully Paid       MORTGAGE   \n",
       "1           1      24700.0  10+ years     65000.0  Fully Paid       MORTGAGE   \n",
       "2           2      20000.0  10+ years     63000.0  Fully Paid       MORTGAGE   \n",
       "3           3      35000.0  10+ years    110000.0     Current       MORTGAGE   \n",
       "4           4      10400.0    3 years    104433.0  Fully Paid       MORTGAGE   \n",
       "\n",
       "   int_rate addr_state grade   issue_d             purpose    dti        term  \\\n",
       "0     13.99         PA     C  Dec-2015  debt_consolidation   5.91   36 months   \n",
       "1     11.99         SD     C  Dec-2015      small_business  16.06   36 months   \n",
       "2     10.78         IL     B  Dec-2015    home_improvement  10.78   60 months   \n",
       "3     14.85         NJ     C  Dec-2015  debt_consolidation  17.06   60 months   \n",
       "4     22.45         PA     F  Dec-2015      major_purchase  25.37   60 months   \n",
       "\n",
       "  zip_code  \n",
       "0    190xx  \n",
       "1    577xx  \n",
       "2    605xx  \n",
       "3    076xx  \n",
       "4    174xx  "
      ]
     },
     "execution_count": 3,
     "metadata": {},
     "output_type": "execute_result"
    }
   ],
   "source": [
    "print(f' The shape of the data is {loan2.shape}')\n",
    "loan2.head()"
   ]
  },
  {
   "cell_type": "code",
   "execution_count": 4,
   "id": "alone-consistency",
   "metadata": {},
   "outputs": [
    {
     "data": {
      "text/plain": [
       "Mar-2016    61992\n",
       "Oct-2015    48631\n",
       "May-2018    46311\n",
       "Oct-2018    46305\n",
       "Aug-2018    46079\n",
       "            ...  \n",
       "Aug-2007       74\n",
       "Jul-2007       63\n",
       "Sep-2008       57\n",
       "Sep-2007       53\n",
       "Jun-2007       24\n",
       "Name: issue_d, Length: 139, dtype: int64"
      ]
     },
     "execution_count": 4,
     "metadata": {},
     "output_type": "execute_result"
    }
   ],
   "source": [
    "loan2['issue_d'].value_counts()"
   ]
  },
  {
   "cell_type": "code",
   "execution_count": 5,
   "id": "advanced-checklist",
   "metadata": {},
   "outputs": [],
   "source": [
    "#removed the Unnamed Column\n",
    "loan2.drop(columns=['Unnamed: 0'], inplace=True)"
   ]
  },
  {
   "cell_type": "code",
   "execution_count": 6,
   "id": "aging-overall",
   "metadata": {},
   "outputs": [
    {
     "name": "stdout",
     "output_type": "stream",
     "text": [
      "<class 'pandas.core.frame.DataFrame'>\n",
      "RangeIndex: 2260701 entries, 0 to 2260700\n",
      "Data columns (total 13 columns):\n",
      " #   Column          Dtype  \n",
      "---  ------          -----  \n",
      " 0   funded_amnt     float64\n",
      " 1   emp_length      object \n",
      " 2   annual_inc      float64\n",
      " 3   loan_status     object \n",
      " 4   home_ownership  object \n",
      " 5   int_rate        float64\n",
      " 6   addr_state      object \n",
      " 7   grade           object \n",
      " 8   issue_d         object \n",
      " 9   purpose         object \n",
      " 10  dti             float64\n",
      " 11  term            object \n",
      " 12  zip_code        object \n",
      "dtypes: float64(4), object(9)\n",
      "memory usage: 224.2+ MB\n"
     ]
    }
   ],
   "source": [
    "#there are (9) object and (4)float features\n",
    "loan2.info()"
   ]
  },
  {
   "cell_type": "code",
   "execution_count": 7,
   "id": "realistic-driver",
   "metadata": {},
   "outputs": [
    {
     "data": {
      "text/plain": [
       "funded_amnt           33\n",
       "emp_length        146940\n",
       "annual_inc            37\n",
       "loan_status           33\n",
       "home_ownership        33\n",
       "int_rate              33\n",
       "addr_state            33\n",
       "grade                 33\n",
       "issue_d               33\n",
       "purpose               33\n",
       "dti                 1744\n",
       "term                  33\n",
       "zip_code              34\n",
       "dtype: int64"
      ]
     },
     "execution_count": 7,
     "metadata": {},
     "output_type": "execute_result"
    }
   ],
   "source": [
    "loan2.isnull().sum()"
   ]
  },
  {
   "cell_type": "code",
   "execution_count": 8,
   "id": "differential-insurance",
   "metadata": {},
   "outputs": [],
   "source": [
    "#drop 147058 rows that contained many null values\n",
    "loan2.dropna(inplace=True)"
   ]
  },
  {
   "cell_type": "code",
   "execution_count": 9,
   "id": "detailed-budapest",
   "metadata": {},
   "outputs": [
    {
     "data": {
      "text/plain": [
       "funded_amnt       0\n",
       "emp_length        0\n",
       "annual_inc        0\n",
       "loan_status       0\n",
       "home_ownership    0\n",
       "int_rate          0\n",
       "addr_state        0\n",
       "grade             0\n",
       "issue_d           0\n",
       "purpose           0\n",
       "dti               0\n",
       "term              0\n",
       "zip_code          0\n",
       "dtype: int64"
      ]
     },
     "execution_count": 9,
     "metadata": {},
     "output_type": "execute_result"
    }
   ],
   "source": [
    "loan2.isnull().sum()"
   ]
  },
  {
   "cell_type": "markdown",
   "id": "trained-authority",
   "metadata": {},
   "source": [
    "## Evaluation (Explanatory Data Analysis)"
   ]
  },
  {
   "cell_type": "markdown",
   "id": "structured-tulsa",
   "metadata": {},
   "source": [
    "### Employment History"
   ]
  },
  {
   "cell_type": "markdown",
   "id": "armed-castle",
   "metadata": {},
   "source": [
    "The length of employment feature was an object that contained strings, n/a, <, >, which were removed then it was convert to numeric."
   ]
  },
  {
   "cell_type": "code",
   "execution_count": 15,
   "id": "tested-hamburg",
   "metadata": {},
   "outputs": [],
   "source": [
    "def employment_length(text):\n",
    "    text = text.lower()\n",
    "    \n",
    "    if text == 'nan':\n",
    "        text = '0'\n",
    "    elif text == 'n/a':\n",
    "        text = '0'\n",
    "    elif text == '< 1 year':\n",
    "        text = '0.5'\n",
    "    elif text == '1 year':\n",
    "        text = '1'\n",
    "    elif text == '2 years':\n",
    "        text = '2'\n",
    "    elif text == '3 years':\n",
    "        text = '3'\n",
    "    elif text == '4 years':\n",
    "        text = '4'\n",
    "    elif text == '5 years':\n",
    "        text = '5'\n",
    "    elif text == '6 years':\n",
    "        text = '6'\n",
    "    elif text == '7 years':\n",
    "        text = '7'\n",
    "    elif text == '8 years':\n",
    "        text = '8'\n",
    "    elif text == '9 years':\n",
    "        text = '9'\n",
    "    elif text == '10+ years':\n",
    "        text = '10'\n",
    "            \n",
    "    return text"
   ]
  },
  {
   "cell_type": "code",
   "execution_count": 16,
   "id": "sustained-syria",
   "metadata": {},
   "outputs": [],
   "source": [
    "loan2['emp_length'] = loan2['emp_length'].astype('str')\n",
    "loan2['emp_length'] = [employment_length(i) for i  in loan2['emp_length']]\n",
    "loan2['emp_length'] = loan2['emp_length'].astype('float')"
   ]
  },
  {
   "cell_type": "code",
   "execution_count": 17,
   "id": "secure-glory",
   "metadata": {},
   "outputs": [
    {
     "data": {
      "text/plain": [
       "0    10.0\n",
       "1    10.0\n",
       "2    10.0\n",
       "3    10.0\n",
       "4     3.0\n",
       "Name: emp_length, dtype: float64"
      ]
     },
     "execution_count": 17,
     "metadata": {},
     "output_type": "execute_result"
    }
   ],
   "source": [
    "loan2['emp_length'].head()"
   ]
  },
  {
   "cell_type": "code",
   "execution_count": 18,
   "id": "acting-refund",
   "metadata": {},
   "outputs": [
    {
     "data": {
      "image/png": "[encoded data removed]",
      "text/plain": [
       "<Figure size 432x288 with 1 Axes>"
      ]
     },
     "metadata": {
      "needs_background": "light"
     },
     "output_type": "display_data"
    }
   ],
   "source": [
    "plt.hist(loan2['emp_length'], bins=5);\n",
    "plt.title('Length of Employment for Borrowers');"
   ]
  },
  {
   "cell_type": "markdown",
   "id": "distinct-present",
   "metadata": {},
   "source": [
    "#### Note:\n",
    "Length of employment is now a numeric value and can be used in modeling."
   ]
  },
  {
   "cell_type": "markdown",
   "id": "minute-shareware",
   "metadata": {},
   "source": [
    "### Funded Amount "
   ]
  },
  {
   "cell_type": "code",
   "execution_count": 19,
   "id": "accessible-avenue",
   "metadata": {},
   "outputs": [
    {
     "data": {
      "text/html": [
       "<div>\n",
       "<style scoped>\n",
       "    .dataframe tbody tr th:only-of-type {\n",
       "        vertical-align: middle;\n",
       "    }\n",
       "\n",
       "    .dataframe tbody tr th {\n",
       "        vertical-align: top;\n",
       "    }\n",
       "\n",
       "    .dataframe thead th {\n",
       "        text-align: right;\n",
       "    }\n",
       "</style>\n",
       "<table border=\"1\" class=\"dataframe\">\n",
       "  <thead>\n",
       "    <tr style=\"text-align: right;\">\n",
       "      <th></th>\n",
       "      <th>funded_amnt</th>\n",
       "    </tr>\n",
       "  </thead>\n",
       "  <tbody>\n",
       "    <tr>\n",
       "      <th>min</th>\n",
       "      <td>500.0</td>\n",
       "    </tr>\n",
       "    <tr>\n",
       "      <th>mean</th>\n",
       "      <td>15245.0</td>\n",
       "    </tr>\n",
       "    <tr>\n",
       "      <th>median</th>\n",
       "      <td>13050.0</td>\n",
       "    </tr>\n",
       "    <tr>\n",
       "      <th>max</th>\n",
       "      <td>40000.0</td>\n",
       "    </tr>\n",
       "  </tbody>\n",
       "</table>\n",
       "</div>"
      ],
      "text/plain": [
       "        funded_amnt\n",
       "min           500.0\n",
       "mean        15245.0\n",
       "median      13050.0\n",
       "max         40000.0"
      ]
     },
     "execution_count": 19,
     "metadata": {},
     "output_type": "execute_result"
    }
   ],
   "source": [
    "np.round(loan2.agg({'funded_amnt': ['min', 'mean', 'median','max']}))"
   ]
  },
  {
   "cell_type": "markdown",
   "id": "asian-craps",
   "metadata": {},
   "source": [
    "**The minimum amount of a funded amount issued to a borrower was 500 and the maximum was 40k.**"
   ]
  },
  {
   "cell_type": "code",
   "execution_count": 20,
   "id": "downtown-system",
   "metadata": {},
   "outputs": [
    {
     "data": {
      "text/plain": [
       "0    10000.0\n",
       "dtype: float64"
      ]
     },
     "execution_count": 20,
     "metadata": {},
     "output_type": "execute_result"
    }
   ],
   "source": [
    "#the most popular amount of loan value is 10k\n",
    "loan2['funded_amnt'].mode()"
   ]
  },
  {
   "cell_type": "code",
   "execution_count": 21,
   "id": "fatal-williams",
   "metadata": {},
   "outputs": [
    {
     "data": {
      "image/png": "[encoded data removed]",
      "text/plain": [
       "<Figure size 720x360 with 1 Axes>"
      ]
     },
     "metadata": {
      "needs_background": "light"
     },
     "output_type": "display_data"
    }
   ],
   "source": [
    "plt.figure(figsize=(10,5))\n",
    "plt.hist(loan2['funded_amnt']);\n",
    "plt.xlabel('Loan value');\n",
    "plt.ylabel('The count of number of borrowers')\n",
    "plt.title('The number of loans with income < $175,000');"
   ]
  },
  {
   "cell_type": "markdown",
   "id": "framed-glucose",
   "metadata": {},
   "source": [
    "**Loans were obtained from 500 to max of 40k**"
   ]
  },
  {
   "cell_type": "markdown",
   "id": "characteristic-velvet",
   "metadata": {},
   "source": [
    "### Annual Income"
   ]
  },
  {
   "cell_type": "code",
   "execution_count": 22,
   "id": "alike-teddy",
   "metadata": {},
   "outputs": [
    {
     "data": {
      "text/html": [
       "<div>\n",
       "<style scoped>\n",
       "    .dataframe tbody tr th:only-of-type {\n",
       "        vertical-align: middle;\n",
       "    }\n",
       "\n",
       "    .dataframe tbody tr th {\n",
       "        vertical-align: top;\n",
       "    }\n",
       "\n",
       "    .dataframe thead th {\n",
       "        text-align: right;\n",
       "    }\n",
       "</style>\n",
       "<table border=\"1\" class=\"dataframe\">\n",
       "  <thead>\n",
       "    <tr style=\"text-align: right;\">\n",
       "      <th></th>\n",
       "      <th>annual_inc</th>\n",
       "    </tr>\n",
       "  </thead>\n",
       "  <tbody>\n",
       "    <tr>\n",
       "      <th>min</th>\n",
       "      <td>0.0</td>\n",
       "    </tr>\n",
       "    <tr>\n",
       "      <th>mean</th>\n",
       "      <td>79967.0</td>\n",
       "    </tr>\n",
       "    <tr>\n",
       "      <th>median</th>\n",
       "      <td>67000.0</td>\n",
       "    </tr>\n",
       "    <tr>\n",
       "      <th>max</th>\n",
       "      <td>110000000.0</td>\n",
       "    </tr>\n",
       "  </tbody>\n",
       "</table>\n",
       "</div>"
      ],
      "text/plain": [
       "         annual_inc\n",
       "min             0.0\n",
       "mean        79967.0\n",
       "median      67000.0\n",
       "max     110000000.0"
      ]
     },
     "execution_count": 22,
     "metadata": {},
     "output_type": "execute_result"
    }
   ],
   "source": [
    "np.round(loan2.agg({'annual_inc': ['min', 'mean', 'median','max']}))"
   ]
  },
  {
   "cell_type": "code",
   "execution_count": 23,
   "id": "regular-guest",
   "metadata": {},
   "outputs": [
    {
     "data": {
      "image/png": "[encoded data removed]",
      "text/plain": [
       "<Figure size 720x360 with 1 Axes>"
      ]
     },
     "metadata": {
      "needs_background": "light"
     },
     "output_type": "display_data"
    }
   ],
   "source": [
    "plt.figure(figsize=(10,5))\n",
    "plt.scatter(loan2['annual_inc'], loan2['funded_amnt'])\n",
    "plt.title(\"Annual Income against Funded Amount\")\n",
    "plt.ylabel('Loan Value')\n",
    "plt.xlabel('Annual Income')\n",
    "plt.show()"
   ]
  },
  {
   "cell_type": "code",
   "execution_count": 24,
   "id": "prescription-grocery",
   "metadata": {},
   "outputs": [],
   "source": [
    "loan2.drop(loan2[loan2['annual_inc'] >175000].index, inplace = True)"
   ]
  },
  {
   "cell_type": "code",
   "execution_count": 25,
   "id": "material-poetry",
   "metadata": {},
   "outputs": [
    {
     "data": {
      "image/png": "[encoded data removed]",
      "text/plain": [
       "<Figure size 720x360 with 1 Axes>"
      ]
     },
     "metadata": {
      "needs_background": "light"
     },
     "output_type": "display_data"
    }
   ],
   "source": [
    "plt.figure(figsize=(10,5))\n",
    "plt.hist(loan2['annual_inc']);\n",
    "plt.xlabel('Annual Income');\n",
    "plt.ylabel('The count of number of borrowers')\n",
    "plt.title('The distribution of Annual Income of the borrowers');"
   ]
  },
  {
   "cell_type": "code",
   "execution_count": 26,
   "id": "competitive-price",
   "metadata": {},
   "outputs": [
    {
     "data": {
      "image/png": "[encoded data removed]",
      "text/plain": [
       "<Figure size 648x360 with 1 Axes>"
      ]
     },
     "metadata": {
      "needs_background": "light"
     },
     "output_type": "display_data"
    }
   ],
   "source": [
    "loan2['annual_inc'].plot.box(figsize=(9,5));\n",
    "plt.title('The distribution of Annual Income using boxplot');"
   ]
  },
  {
   "cell_type": "code",
   "execution_count": 27,
   "id": "cardiac-mechanism",
   "metadata": {},
   "outputs": [
    {
     "data": {
      "text/plain": [
       "count    2.027129e+06\n",
       "mean     7.177483e+04\n",
       "std      3.282780e+04\n",
       "min      0.000000e+00\n",
       "25%      4.750000e+04\n",
       "50%      6.500000e+04\n",
       "75%      9.000000e+04\n",
       "max      1.750000e+05\n",
       "Name: annual_inc, dtype: float64"
      ]
     },
     "execution_count": 27,
     "metadata": {},
     "output_type": "execute_result"
    }
   ],
   "source": [
    "loan2['annual_inc'].describe()"
   ]
  },
  {
   "cell_type": "code",
   "execution_count": 28,
   "id": "english-lithuania",
   "metadata": {},
   "outputs": [
    {
     "data": {
      "text/plain": [
       "(2027129, 13)"
      ]
     },
     "execution_count": 28,
     "metadata": {},
     "output_type": "execute_result"
    }
   ],
   "source": [
    "loan2.shape"
   ]
  },
  {
   "cell_type": "markdown",
   "id": "visible-fairy",
   "metadata": {},
   "source": [
    "#### Notes - histogram, scatterplot\n",
    "- The scatter plot was done using all of the data.  A large number of borrowers income was around 175,000 annual\n",
    "- Removed all income greater than 175,000 annually.  The histogram displays more distributed and skewed left chart.\n",
    "- The box plot displays mean income at 71,774"
   ]
  },
  {
   "cell_type": "markdown",
   "id": "liquid-nickname",
   "metadata": {},
   "source": [
    "### Loan Status"
   ]
  },
  {
   "cell_type": "code",
   "execution_count": 29,
   "id": "gothic-hours",
   "metadata": {},
   "outputs": [
    {
     "data": {
      "text/plain": [
       "Fully Paid                                             980309\n",
       "Current                                                773280\n",
       "Charged Off                                            240931\n",
       "Late (31-120 days)                                      18858\n",
       "In Grace Period                                          7444\n",
       "Late (16-30 days)                                        3693\n",
       "Does not meet the credit policy. Status:Fully Paid       1875\n",
       "Does not meet the credit policy. Status:Charged Off       706\n",
       "Default                                                    33\n",
       "Name: loan_status, dtype: int64"
      ]
     },
     "execution_count": 29,
     "metadata": {},
     "output_type": "execute_result"
    }
   ],
   "source": [
    "loan2.loan_status.value_counts()"
   ]
  },
  {
   "cell_type": "code",
   "execution_count": 30,
   "id": "basic-marks",
   "metadata": {},
   "outputs": [],
   "source": [
    "loan2.drop(loan2[loan2['loan_status']=='Does not meet the credit policy. Status:Fully Paid'].index, inplace=True)\n",
    "loan2.drop(loan2[loan2['loan_status']=='Does not meet the credit policy. Status:Charged Off'].index, inplace=True)\n",
    "loan2.drop(loan2[loan2['loan_status']== 0].index, inplace=True)"
   ]
  },
  {
   "cell_type": "code",
   "execution_count": 31,
   "id": "handed-certification",
   "metadata": {},
   "outputs": [
    {
     "data": {
      "image/png": "[encoded data removed]",
      "text/plain": [
       "<Figure size 720x360 with 1 Axes>"
      ]
     },
     "metadata": {
      "needs_background": "light"
     },
     "output_type": "display_data"
    }
   ],
   "source": [
    "plt.figure(figsize=(10,5))\n",
    "plt.bar(['Current', 'Charged Off', 'Fully Paid', \n",
    "        'In Grace Period',\n",
    "        'Late (31-120 days)', 'Late (16-30 days)', 'Default'],\n",
    "        loan2['loan_status'].value_counts());\n",
    "plt.xticks(rotation = 45);\n",
    "plt.xlabel('Loan status');\n",
    "plt.ylabel('The count of number of borrowers')\n",
    "plt.title('Loan status distribution');"
   ]
  },
  {
   "cell_type": "markdown",
   "id": "constitutional-brick",
   "metadata": {},
   "source": [
    "#### Note:\n",
    "\n",
    "There are a lot of loans which are current with an ok amount of fully paid loans.  The other categories and default are really low.  \n",
    "We dropped (3) classes from loan_status because they did not \"meet credit policy\" (Does not meet the credit policy. Status:Fully Paid, Does not meet the credit policy. Status:Charged Off).\n"
   ]
  },
  {
   "cell_type": "markdown",
   "id": "naughty-stanley",
   "metadata": {},
   "source": [
    "### Loan Status - remove noise"
   ]
  },
  {
   "cell_type": "code",
   "execution_count": 32,
   "id": "collected-motel",
   "metadata": {},
   "outputs": [],
   "source": [
    "loan2['loan_status_1'] = loan2['loan_status'].map({\"Current\": 2,\n",
    "                                    \"Fully Paid\": 1, \"In Grace Period\": 0, \n",
    "                                    \"Late (16-30 days)\": 0, \n",
    "                                    \"Late (31-120 days)\": 0,\n",
    "                                    \"Charged Off\" : 0, \"Default\" : 0\n",
    "                                                      })"
   ]
  },
  {
   "cell_type": "code",
   "execution_count": 33,
   "id": "blond-horse",
   "metadata": {},
   "outputs": [],
   "source": [
    "# Remove all loans that are Current\n",
    "# We only want to keep Late or Fully Paid\n",
    "loan2 = loan2[loan2['loan_status_1'] != 2]"
   ]
  },
  {
   "cell_type": "code",
   "execution_count": 34,
   "id": "informed-tamil",
   "metadata": {},
   "outputs": [
    {
     "data": {
      "image/png": "[encoded data removed]",
      "text/plain": [
       "<Figure size 432x288 with 1 Axes>"
      ]
     },
     "metadata": {
      "needs_background": "light"
     },
     "output_type": "display_data"
    }
   ],
   "source": [
    "loan2.loan_status_1.value_counts().plot(kind='bar',alpha=.30);\n",
    "plt.title('The Fully Paid (1) and Default (0) borrowers');"
   ]
  },
  {
   "cell_type": "markdown",
   "id": "directed-syntax",
   "metadata": {},
   "source": [
    "#### Note:\n",
    "\n",
    "Fully Paid in loan status is the target variable.\n",
    "We only need to know who Fully Paid their loan, or who is in default.  Anyone who is CURRENT doesn't matter for our analysis purposes.  We only care about those who have PAID or those who are in DEFAULT.\n",
    "\n",
    "We mapped values in the loan_status as: Fully Paid = 1, Current = 2 and the remainders, 0."
   ]
  },
  {
   "cell_type": "code",
   "execution_count": 44,
   "id": "equipped-endorsement",
   "metadata": {},
   "outputs": [
    {
     "data": {
      "text/plain": [
       "1    980309\n",
       "0    270959\n",
       "Name: loan_status_1, dtype: int64"
      ]
     },
     "execution_count": 44,
     "metadata": {},
     "output_type": "execute_result"
    }
   ],
   "source": [
    "#removing Current from the evaluation reduced the shape by 85_600\n",
    "loan2.loan_status_1.value_counts()"
   ]
  },
  {
   "cell_type": "code",
   "execution_count": 36,
   "id": "transsexual-curtis",
   "metadata": {},
   "outputs": [
    {
     "data": {
      "text/plain": [
       "(1251268, 14)"
      ]
     },
     "execution_count": 36,
     "metadata": {},
     "output_type": "execute_result"
    }
   ],
   "source": [
    "loan2.shape"
   ]
  },
  {
   "cell_type": "markdown",
   "id": "jewish-documentary",
   "metadata": {},
   "source": [
    "**There is an imbalance between Fully Paid and Default.  We will use a re-balance sample to balance before we model.**"
   ]
  },
  {
   "cell_type": "code",
   "execution_count": 64,
   "id": "convinced-turning",
   "metadata": {},
   "outputs": [
    {
     "data": {
      "text/plain": [
       "term\n",
       " 36 months    0.828745\n",
       " 60 months    0.648111\n",
       "Name: loan_status_1, dtype: float64"
      ]
     },
     "execution_count": 64,
     "metadata": {},
     "output_type": "execute_result"
    }
   ],
   "source": [
    "#distribution of loan by terms, loan status\n",
    "loan2.groupby('term')['loan_status_1'].mean()"
   ]
  },
  {
   "cell_type": "code",
   "execution_count": 119,
   "id": "artificial-battlefield",
   "metadata": {},
   "outputs": [
    {
     "data": {
      "text/html": [
       "<div>\n",
       "<style scoped>\n",
       "    .dataframe tbody tr th:only-of-type {\n",
       "        vertical-align: middle;\n",
       "    }\n",
       "\n",
       "    .dataframe tbody tr th {\n",
       "        vertical-align: top;\n",
       "    }\n",
       "\n",
       "    .dataframe thead th {\n",
       "        text-align: right;\n",
       "    }\n",
       "</style>\n",
       "<table border=\"1\" class=\"dataframe\">\n",
       "  <thead>\n",
       "    <tr style=\"text-align: right;\">\n",
       "      <th></th>\n",
       "      <th>count</th>\n",
       "      <th>mean</th>\n",
       "      <th>std</th>\n",
       "      <th>min</th>\n",
       "      <th>25%</th>\n",
       "      <th>50%</th>\n",
       "      <th>75%</th>\n",
       "      <th>max</th>\n",
       "    </tr>\n",
       "    <tr>\n",
       "      <th>loan_status_1</th>\n",
       "      <th></th>\n",
       "      <th></th>\n",
       "      <th></th>\n",
       "      <th></th>\n",
       "      <th></th>\n",
       "      <th></th>\n",
       "      <th></th>\n",
       "      <th></th>\n",
       "    </tr>\n",
       "  </thead>\n",
       "  <tbody>\n",
       "    <tr>\n",
       "      <th>0</th>\n",
       "      <td>270959.0</td>\n",
       "      <td>15759.640204</td>\n",
       "      <td>8766.494023</td>\n",
       "      <td>900.0</td>\n",
       "      <td>9525.0</td>\n",
       "      <td>14700.0</td>\n",
       "      <td>20825.0</td>\n",
       "      <td>40000.0</td>\n",
       "    </tr>\n",
       "    <tr>\n",
       "      <th>1</th>\n",
       "      <td>980309.0</td>\n",
       "      <td>13899.859203</td>\n",
       "      <td>8421.501791</td>\n",
       "      <td>500.0</td>\n",
       "      <td>7500.0</td>\n",
       "      <td>12000.0</td>\n",
       "      <td>19650.0</td>\n",
       "      <td>40000.0</td>\n",
       "    </tr>\n",
       "  </tbody>\n",
       "</table>\n",
       "</div>"
      ],
      "text/plain": [
       "                  count          mean          std    min     25%      50%  \\\n",
       "loan_status_1                                                                \n",
       "0              270959.0  15759.640204  8766.494023  900.0  9525.0  14700.0   \n",
       "1              980309.0  13899.859203  8421.501791  500.0  7500.0  12000.0   \n",
       "\n",
       "                   75%      max  \n",
       "loan_status_1                    \n",
       "0              20825.0  40000.0  \n",
       "1              19650.0  40000.0  "
      ]
     },
     "execution_count": 119,
     "metadata": {},
     "output_type": "execute_result"
    }
   ],
   "source": [
    "loan2.groupby(by='loan_status_1')['funded_amnt'].describe()    "
   ]
  },
  {
   "cell_type": "code",
   "execution_count": null,
   "id": "available-rotation",
   "metadata": {},
   "outputs": [],
   "source": []
  },
  {
   "cell_type": "code",
   "execution_count": null,
   "id": "front-collect",
   "metadata": {},
   "outputs": [],
   "source": []
  },
  {
   "cell_type": "markdown",
   "id": "local-willow",
   "metadata": {},
   "source": [
    "### Grade - data clean "
   ]
  },
  {
   "cell_type": "markdown",
   "id": "circular-constraint",
   "metadata": {},
   "source": [
    "https://www.lendingclub.com/foliofn/rateDetail.action\n",
    "Lending Tree uses a formula for their loan grade system  that takes in account not only credit score, but also a combination of several indicators of credit risk from the credit report application.  All loans have either a 36-or-60 month term, with fixed interest rates and equal payments. \n",
    "A rate of \"A\" is the highest with a value of 7 and \"G\" the lowest with a value of 1."
   ]
  },
  {
   "cell_type": "code",
   "execution_count": 37,
   "id": "disturbed-cloud",
   "metadata": {},
   "outputs": [
    {
     "data": {
      "text/plain": [
       "B    363496\n",
       "C    358862\n",
       "A    211190\n",
       "D    189719\n",
       "E     88768\n",
       "F     30477\n",
       "G      8756\n",
       "Name: grade, dtype: int64"
      ]
     },
     "execution_count": 37,
     "metadata": {},
     "output_type": "execute_result"
    }
   ],
   "source": [
    "loan2['grade'].value_counts()"
   ]
  },
  {
   "cell_type": "code",
   "execution_count": 59,
   "id": "accompanied-framing",
   "metadata": {},
   "outputs": [],
   "source": [
    "loan2['grade1'] = loan2['grade'].replace({\"A\": 7,\n",
    "                                    \"B\": 6, \"C\": 5, \n",
    "                                    \"D\":4, \n",
    "                                    \"E\":3,\n",
    "                                    \"F\":2, \"G\": 1\n",
    "                                                      })"
   ]
  },
  {
   "cell_type": "code",
   "execution_count": 39,
   "id": "disturbed-charity",
   "metadata": {},
   "outputs": [
    {
     "data": {
      "text/plain": [
       "6    363496\n",
       "5    358862\n",
       "7    211190\n",
       "4    189719\n",
       "3     88768\n",
       "2     30477\n",
       "1      8756\n",
       "Name: grade1, dtype: int64"
      ]
     },
     "execution_count": 39,
     "metadata": {},
     "output_type": "execute_result"
    }
   ],
   "source": [
    "loan2['grade1'].value_counts()"
   ]
  },
  {
   "cell_type": "code",
   "execution_count": null,
   "id": "mounted-saying",
   "metadata": {},
   "outputs": [],
   "source": [
    "df = loan2[(loan2.grade1 == 'F') | (loan2.grade1 == 'G')]\n",
    "\n",
    "plt.figure(figsize=(15,10))\n",
    "\n",
    "plt.subplot(2,2,1)\n",
    "grade1 = sorted(loan2.grade1.unique().tolist())\n",
    "sns.countplot(x='grade1', data=loan2, \n",
    "              hue='loan_status_1');\n"
   ]
  },
  {
   "cell_type": "markdown",
   "id": "capital-worcester",
   "metadata": {},
   "source": [
    "#### Note:\n",
    "There were 400,000 loans issued at the lowest grade (7) for debt consolidation.  It seems that LC is \"setting up\" the borrowers to fail. We will investigate more with the relationship of purpose and interest rates."
   ]
  },
  {
   "cell_type": "markdown",
   "id": "introductory-techno",
   "metadata": {},
   "source": [
    "### Home Ownership"
   ]
  },
  {
   "cell_type": "code",
   "execution_count": 134,
   "id": "corrected-disease",
   "metadata": {},
   "outputs": [
    {
     "data": {
      "text/plain": [
       "Series([], Name: home_ownership, dtype: int64)"
      ]
     },
     "execution_count": 134,
     "metadata": {},
     "output_type": "execute_result"
    }
   ],
   "source": [
    "loan2['home_ownership'].value_counts()"
   ]
  },
  {
   "cell_type": "code",
   "execution_count": 135,
   "id": "unknown-colleague",
   "metadata": {},
   "outputs": [],
   "source": [
    "loan2.drop(loan2[loan2['home_ownership']=='ANY'].index, inplace=True)\n",
    "loan2.drop(loan2[loan2['home_ownership']=='NONE'].index, inplace=True)\n"
   ]
  },
  {
   "cell_type": "code",
   "execution_count": 137,
   "id": "adolescent-hometown",
   "metadata": {},
   "outputs": [
    {
     "ename": "ValueError",
     "evalue": "shape mismatch: objects cannot be broadcast to a single shape",
     "output_type": "error",
     "traceback": [
      "\u001b[0;31m---------------------------------------------------------------------------\u001b[0m",
      "\u001b[0;31mValueError\u001b[0m                                Traceback (most recent call last)",
      "\u001b[0;32m<ipython-input-137-60bb84fa6f31>\u001b[0m in \u001b[0;36m<module>\u001b[0;34m\u001b[0m\n\u001b[1;32m      1\u001b[0m \u001b[0mplt\u001b[0m\u001b[0;34m.\u001b[0m\u001b[0mfigure\u001b[0m\u001b[0;34m(\u001b[0m\u001b[0mfigsize\u001b[0m\u001b[0;34m=\u001b[0m\u001b[0;34m(\u001b[0m\u001b[0;36m10\u001b[0m\u001b[0;34m,\u001b[0m\u001b[0;36m5\u001b[0m\u001b[0;34m)\u001b[0m\u001b[0;34m)\u001b[0m\u001b[0;34m\u001b[0m\u001b[0;34m\u001b[0m\u001b[0m\n\u001b[0;32m----> 2\u001b[0;31m plt.bar(['MORTGAGE', 'RENT', 'OWN', \n\u001b[0m\u001b[1;32m      3\u001b[0m         'OTHER'],\n\u001b[1;32m      4\u001b[0m         loan2['home_ownership'].value_counts());\n\u001b[1;32m      5\u001b[0m \u001b[0mplt\u001b[0m\u001b[0;34m.\u001b[0m\u001b[0mxticks\u001b[0m\u001b[0;34m(\u001b[0m\u001b[0mrotation\u001b[0m \u001b[0;34m=\u001b[0m \u001b[0;36m45\u001b[0m\u001b[0;34m)\u001b[0m\u001b[0;34m;\u001b[0m\u001b[0;34m\u001b[0m\u001b[0;34m\u001b[0m\u001b[0m\n",
      "\u001b[0;32m~/opt/anaconda3/lib/python3.8/site-packages/matplotlib/pyplot.py\u001b[0m in \u001b[0;36mbar\u001b[0;34m(x, height, width, bottom, align, data, **kwargs)\u001b[0m\n\u001b[1;32m   2485\u001b[0m         \u001b[0mx\u001b[0m\u001b[0;34m,\u001b[0m \u001b[0mheight\u001b[0m\u001b[0;34m,\u001b[0m \u001b[0mwidth\u001b[0m\u001b[0;34m=\u001b[0m\u001b[0;36m0.8\u001b[0m\u001b[0;34m,\u001b[0m \u001b[0mbottom\u001b[0m\u001b[0;34m=\u001b[0m\u001b[0;32mNone\u001b[0m\u001b[0;34m,\u001b[0m \u001b[0;34m*\u001b[0m\u001b[0;34m,\u001b[0m \u001b[0malign\u001b[0m\u001b[0;34m=\u001b[0m\u001b[0;34m'center'\u001b[0m\u001b[0;34m,\u001b[0m\u001b[0;34m\u001b[0m\u001b[0;34m\u001b[0m\u001b[0m\n\u001b[1;32m   2486\u001b[0m         data=None, **kwargs):\n\u001b[0;32m-> 2487\u001b[0;31m     return gca().bar(\n\u001b[0m\u001b[1;32m   2488\u001b[0m         \u001b[0mx\u001b[0m\u001b[0;34m,\u001b[0m \u001b[0mheight\u001b[0m\u001b[0;34m,\u001b[0m \u001b[0mwidth\u001b[0m\u001b[0;34m=\u001b[0m\u001b[0mwidth\u001b[0m\u001b[0;34m,\u001b[0m \u001b[0mbottom\u001b[0m\u001b[0;34m=\u001b[0m\u001b[0mbottom\u001b[0m\u001b[0;34m,\u001b[0m \u001b[0malign\u001b[0m\u001b[0;34m=\u001b[0m\u001b[0malign\u001b[0m\u001b[0;34m,\u001b[0m\u001b[0;34m\u001b[0m\u001b[0;34m\u001b[0m\u001b[0m\n\u001b[1;32m   2489\u001b[0m         **({\"data\": data} if data is not None else {}), **kwargs)\n",
      "\u001b[0;32m~/opt/anaconda3/lib/python3.8/site-packages/matplotlib/__init__.py\u001b[0m in \u001b[0;36minner\u001b[0;34m(ax, data, *args, **kwargs)\u001b[0m\n\u001b[1;32m   1445\u001b[0m     \u001b[0;32mdef\u001b[0m \u001b[0minner\u001b[0m\u001b[0;34m(\u001b[0m\u001b[0max\u001b[0m\u001b[0;34m,\u001b[0m \u001b[0;34m*\u001b[0m\u001b[0margs\u001b[0m\u001b[0;34m,\u001b[0m \u001b[0mdata\u001b[0m\u001b[0;34m=\u001b[0m\u001b[0;32mNone\u001b[0m\u001b[0;34m,\u001b[0m \u001b[0;34m**\u001b[0m\u001b[0mkwargs\u001b[0m\u001b[0;34m)\u001b[0m\u001b[0;34m:\u001b[0m\u001b[0;34m\u001b[0m\u001b[0;34m\u001b[0m\u001b[0m\n\u001b[1;32m   1446\u001b[0m         \u001b[0;32mif\u001b[0m \u001b[0mdata\u001b[0m \u001b[0;32mis\u001b[0m \u001b[0;32mNone\u001b[0m\u001b[0;34m:\u001b[0m\u001b[0;34m\u001b[0m\u001b[0;34m\u001b[0m\u001b[0m\n\u001b[0;32m-> 1447\u001b[0;31m             \u001b[0;32mreturn\u001b[0m \u001b[0mfunc\u001b[0m\u001b[0;34m(\u001b[0m\u001b[0max\u001b[0m\u001b[0;34m,\u001b[0m \u001b[0;34m*\u001b[0m\u001b[0mmap\u001b[0m\u001b[0;34m(\u001b[0m\u001b[0msanitize_sequence\u001b[0m\u001b[0;34m,\u001b[0m \u001b[0margs\u001b[0m\u001b[0;34m)\u001b[0m\u001b[0;34m,\u001b[0m \u001b[0;34m**\u001b[0m\u001b[0mkwargs\u001b[0m\u001b[0;34m)\u001b[0m\u001b[0;34m\u001b[0m\u001b[0;34m\u001b[0m\u001b[0m\n\u001b[0m\u001b[1;32m   1448\u001b[0m \u001b[0;34m\u001b[0m\u001b[0m\n\u001b[1;32m   1449\u001b[0m         \u001b[0mbound\u001b[0m \u001b[0;34m=\u001b[0m \u001b[0mnew_sig\u001b[0m\u001b[0;34m.\u001b[0m\u001b[0mbind\u001b[0m\u001b[0;34m(\u001b[0m\u001b[0max\u001b[0m\u001b[0;34m,\u001b[0m \u001b[0;34m*\u001b[0m\u001b[0margs\u001b[0m\u001b[0;34m,\u001b[0m \u001b[0;34m**\u001b[0m\u001b[0mkwargs\u001b[0m\u001b[0;34m)\u001b[0m\u001b[0;34m\u001b[0m\u001b[0;34m\u001b[0m\u001b[0m\n",
      "\u001b[0;32m~/opt/anaconda3/lib/python3.8/site-packages/matplotlib/axes/_axes.py\u001b[0m in \u001b[0;36mbar\u001b[0;34m(self, x, height, width, bottom, align, **kwargs)\u001b[0m\n\u001b[1;32m   2428\u001b[0m                 \u001b[0myerr\u001b[0m \u001b[0;34m=\u001b[0m \u001b[0mself\u001b[0m\u001b[0;34m.\u001b[0m\u001b[0m_convert_dx\u001b[0m\u001b[0;34m(\u001b[0m\u001b[0myerr\u001b[0m\u001b[0;34m,\u001b[0m \u001b[0my0\u001b[0m\u001b[0;34m,\u001b[0m \u001b[0my\u001b[0m\u001b[0;34m,\u001b[0m \u001b[0mself\u001b[0m\u001b[0;34m.\u001b[0m\u001b[0mconvert_yunits\u001b[0m\u001b[0;34m)\u001b[0m\u001b[0;34m\u001b[0m\u001b[0;34m\u001b[0m\u001b[0m\n\u001b[1;32m   2429\u001b[0m \u001b[0;34m\u001b[0m\u001b[0m\n\u001b[0;32m-> 2430\u001b[0;31m         x, height, width, y, linewidth = np.broadcast_arrays(\n\u001b[0m\u001b[1;32m   2431\u001b[0m             \u001b[0;31m# Make args iterable too.\u001b[0m\u001b[0;34m\u001b[0m\u001b[0;34m\u001b[0m\u001b[0;34m\u001b[0m\u001b[0m\n\u001b[1;32m   2432\u001b[0m             np.atleast_1d(x), height, width, y, linewidth)\n",
      "\u001b[0;32m<__array_function__ internals>\u001b[0m in \u001b[0;36mbroadcast_arrays\u001b[0;34m(*args, **kwargs)\u001b[0m\n",
      "\u001b[0;32m~/opt/anaconda3/lib/python3.8/site-packages/numpy/lib/stride_tricks.py\u001b[0m in \u001b[0;36mbroadcast_arrays\u001b[0;34m(subok, *args)\u001b[0m\n\u001b[1;32m    536\u001b[0m     \u001b[0margs\u001b[0m \u001b[0;34m=\u001b[0m \u001b[0;34m[\u001b[0m\u001b[0mnp\u001b[0m\u001b[0;34m.\u001b[0m\u001b[0marray\u001b[0m\u001b[0;34m(\u001b[0m\u001b[0m_m\u001b[0m\u001b[0;34m,\u001b[0m \u001b[0mcopy\u001b[0m\u001b[0;34m=\u001b[0m\u001b[0;32mFalse\u001b[0m\u001b[0;34m,\u001b[0m \u001b[0msubok\u001b[0m\u001b[0;34m=\u001b[0m\u001b[0msubok\u001b[0m\u001b[0;34m)\u001b[0m \u001b[0;32mfor\u001b[0m \u001b[0m_m\u001b[0m \u001b[0;32min\u001b[0m \u001b[0margs\u001b[0m\u001b[0;34m]\u001b[0m\u001b[0;34m\u001b[0m\u001b[0;34m\u001b[0m\u001b[0m\n\u001b[1;32m    537\u001b[0m \u001b[0;34m\u001b[0m\u001b[0m\n\u001b[0;32m--> 538\u001b[0;31m     \u001b[0mshape\u001b[0m \u001b[0;34m=\u001b[0m \u001b[0m_broadcast_shape\u001b[0m\u001b[0;34m(\u001b[0m\u001b[0;34m*\u001b[0m\u001b[0margs\u001b[0m\u001b[0;34m)\u001b[0m\u001b[0;34m\u001b[0m\u001b[0;34m\u001b[0m\u001b[0m\n\u001b[0m\u001b[1;32m    539\u001b[0m \u001b[0;34m\u001b[0m\u001b[0m\n\u001b[1;32m    540\u001b[0m     \u001b[0;32mif\u001b[0m \u001b[0mall\u001b[0m\u001b[0;34m(\u001b[0m\u001b[0marray\u001b[0m\u001b[0;34m.\u001b[0m\u001b[0mshape\u001b[0m \u001b[0;34m==\u001b[0m \u001b[0mshape\u001b[0m \u001b[0;32mfor\u001b[0m \u001b[0marray\u001b[0m \u001b[0;32min\u001b[0m \u001b[0margs\u001b[0m\u001b[0;34m)\u001b[0m\u001b[0;34m:\u001b[0m\u001b[0;34m\u001b[0m\u001b[0;34m\u001b[0m\u001b[0m\n",
      "\u001b[0;32m~/opt/anaconda3/lib/python3.8/site-packages/numpy/lib/stride_tricks.py\u001b[0m in \u001b[0;36m_broadcast_shape\u001b[0;34m(*args)\u001b[0m\n\u001b[1;32m    418\u001b[0m     \u001b[0;31m# use the old-iterator because np.nditer does not handle size 0 arrays\u001b[0m\u001b[0;34m\u001b[0m\u001b[0;34m\u001b[0m\u001b[0;34m\u001b[0m\u001b[0m\n\u001b[1;32m    419\u001b[0m     \u001b[0;31m# consistently\u001b[0m\u001b[0;34m\u001b[0m\u001b[0;34m\u001b[0m\u001b[0;34m\u001b[0m\u001b[0m\n\u001b[0;32m--> 420\u001b[0;31m     \u001b[0mb\u001b[0m \u001b[0;34m=\u001b[0m \u001b[0mnp\u001b[0m\u001b[0;34m.\u001b[0m\u001b[0mbroadcast\u001b[0m\u001b[0;34m(\u001b[0m\u001b[0;34m*\u001b[0m\u001b[0margs\u001b[0m\u001b[0;34m[\u001b[0m\u001b[0;34m:\u001b[0m\u001b[0;36m32\u001b[0m\u001b[0;34m]\u001b[0m\u001b[0;34m)\u001b[0m\u001b[0;34m\u001b[0m\u001b[0;34m\u001b[0m\u001b[0m\n\u001b[0m\u001b[1;32m    421\u001b[0m     \u001b[0;31m# unfortunately, it cannot handle 32 or more arguments directly\u001b[0m\u001b[0;34m\u001b[0m\u001b[0;34m\u001b[0m\u001b[0;34m\u001b[0m\u001b[0m\n\u001b[1;32m    422\u001b[0m     \u001b[0;32mfor\u001b[0m \u001b[0mpos\u001b[0m \u001b[0;32min\u001b[0m \u001b[0mrange\u001b[0m\u001b[0;34m(\u001b[0m\u001b[0;36m32\u001b[0m\u001b[0;34m,\u001b[0m \u001b[0mlen\u001b[0m\u001b[0;34m(\u001b[0m\u001b[0margs\u001b[0m\u001b[0;34m)\u001b[0m\u001b[0;34m,\u001b[0m \u001b[0;36m31\u001b[0m\u001b[0;34m)\u001b[0m\u001b[0;34m:\u001b[0m\u001b[0;34m\u001b[0m\u001b[0;34m\u001b[0m\u001b[0m\n",
      "\u001b[0;31mValueError\u001b[0m: shape mismatch: objects cannot be broadcast to a single shape"
     ]
    },
    {
     "data": {
      "image/png": "[encoded data removed]",
      "text/plain": [
       "<Figure size 720x360 with 1 Axes>"
      ]
     },
     "metadata": {
      "needs_background": "light"
     },
     "output_type": "display_data"
    }
   ],
   "source": [
    "plt.figure(figsize=(10,5))\n",
    "plt.bar(['MORTGAGE', 'RENT', 'OWN', \n",
    "        'OTHER'],\n",
    "        loan2['home_ownership'].value_counts());\n",
    "plt.xticks(rotation = 45);\n",
    "plt.xlabel('Home Ownership');\n",
    "plt.ylabel('The count of number of borrowers')\n",
    "plt.title('Loan status distribution');"
   ]
  },
  {
   "cell_type": "markdown",
   "id": "gothic-rolling",
   "metadata": {},
   "source": [
    "#### Note:\n",
    "A large majority of the borrowers own their own homes."
   ]
  },
  {
   "cell_type": "markdown",
   "id": "robust-comparison",
   "metadata": {},
   "source": [
    "### Analysis of features"
   ]
  },
  {
   "cell_type": "markdown",
   "id": "breathing-crazy",
   "metadata": {},
   "source": [
    "**A correlation coefficient tells us if there are any dependencies between the independent variables**"
   ]
  },
  {
   "cell_type": "code",
   "execution_count": 60,
   "id": "protected-tower",
   "metadata": {},
   "outputs": [
    {
     "data": {
      "image/png": "[encoded data removed]",
      "text/plain": [
       "<Figure size 720x720 with 2 Axes>"
      ]
     },
     "metadata": {
      "needs_background": "light"
     },
     "output_type": "display_data"
    }
   ],
   "source": [
    "plt.figure(figsize=(10,10))\n",
    "sns.heatmap(loan2.corr(), cmap='Blues',\n",
    "           annot=True);\n",
    "plt.title('Correlaation coefficient of numerical features');"
   ]
  },
  {
   "cell_type": "code",
   "execution_count": 51,
   "id": "dynamic-connectivity",
   "metadata": {},
   "outputs": [
    {
     "data": {
      "text/plain": [
       "int_rate        -0.267003\n",
       "dti             -0.094994\n",
       "funded_amnt     -0.089785\n",
       "emp_length       0.015753\n",
       "annual_inc       0.049142\n",
       "grade1           0.264950\n",
       "loan_status_1    1.000000\n",
       "Name: loan_status_1, dtype: float64"
      ]
     },
     "execution_count": 51,
     "metadata": {},
     "output_type": "execute_result"
    }
   ],
   "source": [
    "loan2.corr()['loan_status_1'].sort_values()"
   ]
  },
  {
   "cell_type": "markdown",
   "id": "formal-mixer",
   "metadata": {},
   "source": [
    "#### Note:\n",
    "It is interesting to note there are no positive correlations.  The negative correlation between features:\n",
    "- grade and interest rate has a very strong negative correlation. Intuitively, this makes sense since all the loans were unsecured loans and interest rate is decided by grade(based on a borrower's credit standing).\n",
    "- If a borrower's dti(debt-to-income) ratio is high, intuitively, there may be a chance that the loan will be default."
   ]
  },
  {
   "cell_type": "code",
   "execution_count": 52,
   "id": "later-alberta",
   "metadata": {},
   "outputs": [
    {
     "data": {
      "image/png": "[encoded data removed]",
      "text/plain": [
       "<Figure size 1080x1080 with 9 Axes>"
      ]
     },
     "metadata": {
      "needs_background": "light"
     },
     "output_type": "display_data"
    }
   ],
   "source": [
    "loan2.hist(figsize=(15,15));"
   ]
  },
  {
   "cell_type": "markdown",
   "id": "following-estate",
   "metadata": {},
   "source": [
    "#### Notes\n",
    "The funded amount maximum was 40k.  Annual income maximum was a million dollars.  A large amount of the borrowers earned income less than 150k.  A removal of values over that will be done.  The employment length does not correlate with income.  There is not a linear relationship between the two features.  Interest rates varied from 6% to 33% with the max between 11 and 12 percent."
   ]
  },
  {
   "cell_type": "code",
   "execution_count": null,
   "id": "addressed-knight",
   "metadata": {},
   "outputs": [],
   "source": []
  },
  {
   "cell_type": "markdown",
   "id": "technological-challenge",
   "metadata": {},
   "source": [
    "## Models\n"
   ]
  },
  {
   "cell_type": "markdown",
   "id": "persistent-silly",
   "metadata": {},
   "source": [
    "### Logistic Regression"
   ]
  },
  {
   "cell_type": "code",
   "execution_count": 93,
   "id": "advisory-baghdad",
   "metadata": {},
   "outputs": [],
   "source": [
    "from sklearn.preprocessing import StandardScaler\n",
    "from sklearn.pipeline import make_pipeline\n",
    "from imblearn.under_sampling import RandomUnderSampler\n",
    "from imblearn.over_sampling import SMOTE\n",
    "from collections import Counter\n",
    "from matplotlib import pyplot as plt\n",
    "from numpy import where"
   ]
  },
  {
   "cell_type": "markdown",
   "id": "reserved-thumb",
   "metadata": {},
   "source": [
    "… SMOTE first selects a minority class instance a at random and finds its k nearest minority class neighbors. The synthetic instance is then created by choosing one of the k nearest neighbors b at random and connecting a and b to form a line segment in the feature space. The synthetic instances are generated as a convex combination of the two chosen instances a and b.\n",
    "\n",
    "— Page 47, Imbalanced Learning: Foundations, Algorithms, and Applications, 2013."
   ]
  },
  {
   "cell_type": "markdown",
   "id": "seasonal-liechtenstein",
   "metadata": {},
   "source": [
    "#### loan status , annual income - no sampling done\n",
    "Does annual income affect default?"
   ]
  },
  {
   "cell_type": "code",
   "execution_count": 95,
   "id": "round-pharmacy",
   "metadata": {},
   "outputs": [],
   "source": [
    "X = loan2[['annual_inc']]\n",
    "y = loan2['loan_status_1']"
   ]
  },
  {
   "cell_type": "code",
   "execution_count": 96,
   "id": "fuzzy-signature",
   "metadata": {},
   "outputs": [
    {
     "name": "stdout",
     "output_type": "stream",
     "text": [
      "(1251268, 1)\n",
      "(1251268,)\n"
     ]
    }
   ],
   "source": [
    "print(X.shape)\n",
    "print(y.shape)"
   ]
  },
  {
   "cell_type": "code",
   "execution_count": 97,
   "id": "distant-amateur",
   "metadata": {},
   "outputs": [],
   "source": [
    "# Create training and testing sets - split 66.66/33.33\n",
    "X_train, X_test, y_train, y_test = train_test_split(X, y, test_size = 0.33, random_state=42)"
   ]
  },
  {
   "cell_type": "code",
   "execution_count": 98,
   "id": "stuck-contents",
   "metadata": {},
   "outputs": [
    {
     "data": {
      "text/plain": [
       "(838349, 1)"
      ]
     },
     "execution_count": 98,
     "metadata": {},
     "output_type": "execute_result"
    }
   ],
   "source": [
    "X_train.shape"
   ]
  },
  {
   "cell_type": "code",
   "execution_count": 99,
   "id": "spiritual-quality",
   "metadata": {},
   "outputs": [],
   "source": [
    "ss = StandardScaler()\n",
    "X_train = ss.fit_transform(X_train)\n",
    "X_test = ss.transform(X_test)"
   ]
  },
  {
   "cell_type": "code",
   "execution_count": 100,
   "id": "joined-blink",
   "metadata": {},
   "outputs": [],
   "source": [
    "#Instantiate the model\n",
    "logreg = LogisticRegression(solver='sag')"
   ]
  },
  {
   "cell_type": "code",
   "execution_count": 101,
   "id": "contained-conviction",
   "metadata": {},
   "outputs": [],
   "source": [
    "#Fit the model\n",
    "model = logreg.fit(X_train,y_train)"
   ]
  },
  {
   "cell_type": "code",
   "execution_count": 102,
   "id": "infrared-illness",
   "metadata": {},
   "outputs": [
    {
     "data": {
      "text/plain": [
       "0.7834538977378129"
      ]
     },
     "execution_count": 102,
     "metadata": {},
     "output_type": "execute_result"
    }
   ],
   "source": [
    "model.score(X_test,y_test)"
   ]
  },
  {
   "cell_type": "code",
   "execution_count": 103,
   "id": "southeast-connectivity",
   "metadata": {},
   "outputs": [
    {
     "data": {
      "text/html": [
       "<div>\n",
       "<style scoped>\n",
       "    .dataframe tbody tr th:only-of-type {\n",
       "        vertical-align: middle;\n",
       "    }\n",
       "\n",
       "    .dataframe tbody tr th {\n",
       "        vertical-align: top;\n",
       "    }\n",
       "\n",
       "    .dataframe thead th {\n",
       "        text-align: right;\n",
       "    }\n",
       "</style>\n",
       "<table border=\"1\" class=\"dataframe\">\n",
       "  <thead>\n",
       "    <tr style=\"text-align: right;\">\n",
       "      <th></th>\n",
       "      <th>0</th>\n",
       "    </tr>\n",
       "  </thead>\n",
       "  <tbody>\n",
       "    <tr>\n",
       "      <th>0</th>\n",
       "      <td>annual_inc</td>\n",
       "    </tr>\n",
       "    <tr>\n",
       "      <th>1</th>\n",
       "      <td>[0.12208000652619606]</td>\n",
       "    </tr>\n",
       "  </tbody>\n",
       "</table>\n",
       "</div>"
      ],
      "text/plain": [
       "                       0\n",
       "0             annual_inc\n",
       "1  [0.12208000652619606]"
      ]
     },
     "execution_count": 103,
     "metadata": {},
     "output_type": "execute_result"
    }
   ],
   "source": [
    "pd.DataFrame(zip(X,model.coef_)).T"
   ]
  },
  {
   "cell_type": "markdown",
   "id": "later-grant",
   "metadata": {},
   "source": [
    "#### loan status, employment length, grade\n",
    "Does the length of employment affect default?"
   ]
  },
  {
   "cell_type": "code",
   "execution_count": 105,
   "id": "fixed-retirement",
   "metadata": {},
   "outputs": [],
   "source": [
    "X2 = loan2[['emp_length', 'grade1']]\n",
    "y2 = loan2['loan_status_1']"
   ]
  },
  {
   "cell_type": "code",
   "execution_count": 106,
   "id": "vanilla-entrepreneur",
   "metadata": {},
   "outputs": [
    {
     "data": {
      "text/plain": [
       "(1251268, 2)"
      ]
     },
     "execution_count": 106,
     "metadata": {},
     "output_type": "execute_result"
    }
   ],
   "source": [
    "X2.shape"
   ]
  },
  {
   "cell_type": "code",
   "execution_count": 107,
   "id": "human-stylus",
   "metadata": {},
   "outputs": [],
   "source": [
    "# Create training and testing sets - split 66.66/33.33\n",
    "X2_train, X2_test, y2_train, y2_test = train_test_split(X, y, test_size = 0.33, \n",
    "                                                        random_state=42,\n",
    "                                                       stratify=y)"
   ]
  },
  {
   "cell_type": "code",
   "execution_count": 111,
   "id": "renewable-buyer",
   "metadata": {},
   "outputs": [
    {
     "data": {
      "text/plain": [
       "(838349, 1)"
      ]
     },
     "execution_count": 111,
     "metadata": {},
     "output_type": "execute_result"
    }
   ],
   "source": [
    "X2_train.shape"
   ]
  },
  {
   "cell_type": "code",
   "execution_count": null,
   "id": "passive-sport",
   "metadata": {},
   "outputs": [],
   "source": [
    "ss = StandardScaler()\n",
    "X2_train = ss.fit_transform(X2_train)\n",
    "X2_test = ss.transform(X2_test)"
   ]
  },
  {
   "cell_type": "code",
   "execution_count": null,
   "id": "registered-bangkok",
   "metadata": {},
   "outputs": [],
   "source": [
    "model2 = logreg.fit(X2_train, y2_train)"
   ]
  },
  {
   "cell_type": "code",
   "execution_count": null,
   "id": "unlike-substitute",
   "metadata": {},
   "outputs": [],
   "source": [
    "model2.score(X2_train, y2_train)"
   ]
  },
  {
   "cell_type": "code",
   "execution_count": null,
   "id": "radical-sailing",
   "metadata": {},
   "outputs": [],
   "source": [
    "pd.DataFrame(zip(X2, model2.coef_))"
   ]
  },
  {
   "cell_type": "code",
   "execution_count": null,
   "id": "formal-victor",
   "metadata": {},
   "outputs": [],
   "source": [
    "y2.shape"
   ]
  },
  {
   "cell_type": "markdown",
   "id": "joined-execution",
   "metadata": {},
   "source": [
    "#### loan status, annual income - Oversample, Undersample"
   ]
  },
  {
   "cell_type": "code",
   "execution_count": null,
   "id": "later-crown",
   "metadata": {},
   "outputs": [],
   "source": [
    "X1 = loan3[['annual_inc']]\n",
    "y1 = loan3['loan_status_1']"
   ]
  },
  {
   "cell_type": "code",
   "execution_count": null,
   "id": "aware-prince",
   "metadata": {},
   "outputs": [],
   "source": [
    "X_train1, X_test1, y_train1, y_test1 = train_test_split(X, y, test_size = 0.33, random_state=42)\n",
    "\n",
    "ss = StandardScaler()\n",
    "X_train1 = ss.fit_transform(X_train1)\n",
    "X_test1 = ss.transform(X_test1)"
   ]
  },
  {
   "cell_type": "code",
   "execution_count": null,
   "id": "premier-circuit",
   "metadata": {},
   "outputs": [],
   "source": [
    "#summarize the class distribution before SMOTE\n",
    "counter = Counter(y)\n",
    "print(counter)"
   ]
  },
  {
   "cell_type": "code",
   "execution_count": null,
   "id": "similar-mediterranean",
   "metadata": {},
   "outputs": [],
   "source": [
    "#transform the dataset\n",
    "oversample =SMOTE()\n",
    "undersample = RandomUnderSampler()\n",
    "X,y = oversample.fit_resample(X,y)"
   ]
  },
  {
   "cell_type": "code",
   "execution_count": null,
   "id": "eleven-oliver",
   "metadata": {},
   "outputs": [],
   "source": [
    "#summarize the class distribution after SMOTE\n",
    "counter= Counter(y)\n",
    "print(counter)"
   ]
  },
  {
   "cell_type": "code",
   "execution_count": null,
   "id": "minor-injury",
   "metadata": {},
   "outputs": [],
   "source": [
    "model1 = logreg.fit(X_train1, y_train1)"
   ]
  },
  {
   "cell_type": "code",
   "execution_count": null,
   "id": "numeric-magnet",
   "metadata": {},
   "outputs": [],
   "source": [
    "model1.score(X_test1, y_test1)"
   ]
  },
  {
   "cell_type": "code",
   "execution_count": null,
   "id": "sixth-financing",
   "metadata": {},
   "outputs": [],
   "source": [
    "pd.DataFrame(zip(X1, model1.coef_)).T"
   ]
  },
  {
   "cell_type": "markdown",
   "id": "supposed-mortality",
   "metadata": {},
   "source": [
    "#### loan status, employment length, grade\n",
    "Does the length of employment affect default?"
   ]
  },
  {
   "cell_type": "code",
   "execution_count": null,
   "id": "raised-forum",
   "metadata": {},
   "outputs": [],
   "source": [
    "X2 = loan3[['emp_length', 'grade1']]\n",
    "y2 = loan3['loan_status_1']"
   ]
  },
  {
   "cell_type": "code",
   "execution_count": null,
   "id": "starting-juvenile",
   "metadata": {},
   "outputs": [],
   "source": [
    "X2_train, X2_test, y2_train, y2_test = train_test_split(X, y, test_size = 0.33, random_state=42)\n",
    "\n",
    "ss = StandardScaler()\n",
    "X2_train = ss.fit_transform(X2_train)\n",
    "X2_test = ss.transform(X2_test)"
   ]
  },
  {
   "cell_type": "code",
   "execution_count": null,
   "id": "talented-substance",
   "metadata": {},
   "outputs": [],
   "source": [
    "print(X2.shape)\n",
    "print(y2.shape)\n",
    "print(X2_train.shape)"
   ]
  },
  {
   "cell_type": "code",
   "execution_count": null,
   "id": "amber-indianapolis",
   "metadata": {},
   "outputs": [],
   "source": [
    "model2 = logreg.fit(X2_train, y2_train)"
   ]
  },
  {
   "cell_type": "code",
   "execution_count": null,
   "id": "respective-latex",
   "metadata": {},
   "outputs": [],
   "source": [
    "model2.score(X2_test, y2_test)"
   ]
  },
  {
   "cell_type": "code",
   "execution_count": null,
   "id": "hearing-worst",
   "metadata": {},
   "outputs": [],
   "source": [
    "pd.DataFrame(zip(X2, model2.coef_))"
   ]
  },
  {
   "cell_type": "code",
   "execution_count": null,
   "id": "damaged-profile",
   "metadata": {},
   "outputs": [],
   "source": [
    "model2.coef_"
   ]
  },
  {
   "cell_type": "markdown",
   "id": "downtown-installation",
   "metadata": {},
   "source": [
    "## did not include grade"
   ]
  },
  {
   "cell_type": "markdown",
   "id": "related-applicant",
   "metadata": {},
   "source": [
    "#### loan status interest rate\n",
    "Does the size of the loan or its purpose affect default?"
   ]
  },
  {
   "cell_type": "code",
   "execution_count": null,
   "id": "measured-payday",
   "metadata": {},
   "outputs": [],
   "source": [
    "X3 = loan3[['int_rate']]\n",
    "y3 = loan3['loan_status_1']"
   ]
  },
  {
   "cell_type": "code",
   "execution_count": null,
   "id": "amazing-massachusetts",
   "metadata": {},
   "outputs": [],
   "source": [
    "X3_train, X3_test, y3_train, y3_test = train_test_split(X, y, test_size = 0.33, random_state=42)\n",
    "\n",
    "ss = StandardScaler()\n",
    "X3_train = ss.fit_transform(X3_train)\n",
    "X3_test = ss.transform(X3_test)"
   ]
  },
  {
   "cell_type": "code",
   "execution_count": null,
   "id": "alone-master",
   "metadata": {},
   "outputs": [],
   "source": [
    "model3 = logreg.fit(X3_train, y3_train)"
   ]
  },
  {
   "cell_type": "code",
   "execution_count": null,
   "id": "black-albert",
   "metadata": {},
   "outputs": [],
   "source": [
    "model3.score(X3_test, y3_test)"
   ]
  },
  {
   "cell_type": "code",
   "execution_count": null,
   "id": "surrounded-cocktail",
   "metadata": {},
   "outputs": [],
   "source": [
    "pd.DataFrame(zip(X3, model3.coef_)).T"
   ]
  },
  {
   "cell_type": "markdown",
   "id": "laughing-belief",
   "metadata": {},
   "source": [
    "#### homeownership\n",
    "Will a loan paid off because the borrower owns a home?"
   ]
  },
  {
   "cell_type": "code",
   "execution_count": null,
   "id": "confused-timer",
   "metadata": {},
   "outputs": [],
   "source": [
    "dummies = pd.get_dummies(loan3['home_ownership'])\n",
    "dummies.head()"
   ]
  },
  {
   "cell_type": "code",
   "execution_count": null,
   "id": "unknown-berry",
   "metadata": {},
   "outputs": [],
   "source": [
    "print(dummies['ANY'].sum())\n",
    "print(dummies['OTHER'].sum())\n",
    "print(dummies['NONE'].sum())"
   ]
  },
  {
   "cell_type": "code",
   "execution_count": null,
   "id": "running-conclusion",
   "metadata": {},
   "outputs": [],
   "source": [
    "loan3 = pd.concat([loan3, dummies], axis=1)"
   ]
  },
  {
   "cell_type": "code",
   "execution_count": null,
   "id": "worldwide-extra",
   "metadata": {},
   "outputs": [],
   "source": [
    "loan3.head()"
   ]
  },
  {
   "cell_type": "code",
   "execution_count": null,
   "id": "mighty-roads",
   "metadata": {},
   "outputs": [],
   "source": [
    "X4 = loan3[['ANY', 'MORTGAGE', 'NONE', 'OTHER', 'OWN', 'RENT']]\n",
    "y4 = loan3['loan_status_1']"
   ]
  },
  {
   "cell_type": "code",
   "execution_count": null,
   "id": "obvious-steal",
   "metadata": {},
   "outputs": [],
   "source": [
    "X_train4, X_test4, y_train4, y_test4 = train_test_split(X, y, test_size = 0.33, random_state=42)\n",
    "\n",
    "ss = StandardScaler()\n",
    "X_train4 = ss.fit_transform(X_train4)\n",
    "X_test4 = ss.transform(X_test4)"
   ]
  },
  {
   "cell_type": "code",
   "execution_count": null,
   "id": "absent-battle",
   "metadata": {},
   "outputs": [],
   "source": [
    "model4 = logreg.fit(X_train4, y_train4)"
   ]
  },
  {
   "cell_type": "code",
   "execution_count": null,
   "id": "dimensional-expense",
   "metadata": {},
   "outputs": [],
   "source": [
    "model4.score(X_test4, y_test4)"
   ]
  },
  {
   "cell_type": "code",
   "execution_count": null,
   "id": "clean-emergency",
   "metadata": {},
   "outputs": [],
   "source": [
    "pd.DataFrame(zip(X4,model4.coef_))"
   ]
  },
  {
   "cell_type": "code",
   "execution_count": null,
   "id": "egyptian-hawaii",
   "metadata": {},
   "outputs": [],
   "source": []
  },
  {
   "cell_type": "code",
   "execution_count": null,
   "id": "exotic-photograph",
   "metadata": {},
   "outputs": [],
   "source": []
  },
  {
   "cell_type": "code",
   "execution_count": null,
   "id": "clinical-cheat",
   "metadata": {},
   "outputs": [],
   "source": []
  },
  {
   "cell_type": "code",
   "execution_count": null,
   "id": "cordless-chapter",
   "metadata": {},
   "outputs": [],
   "source": []
  },
  {
   "cell_type": "markdown",
   "id": "seeing-annotation",
   "metadata": {},
   "source": [
    "Questions:\n",
    "\n",
    "2. Loans by state and interest rate. Interest rate of loan based upon where the location of the borrower. \n",
    "\n",
    "3. Does borrowers with high income, pay off their loan?\n",
    "\n",
    "4. Does borrowers with high income receive low interest rates?\n",
    "\n",
    "\n",
    "use map of usa to show states of default loans - looking at folium"
   ]
  },
  {
   "cell_type": "code",
   "execution_count": null,
   "id": "characteristic-mortality",
   "metadata": {},
   "outputs": [],
   "source": [
    "# Create a list of classifiers with their default parameters. This list will be used to fit the models using for loop\n",
    "classifiers = [LogisticRegression(max_iter=100_000), GaussianNB(), \n",
    "               KNeighborsClassifier(), SVC(),  DecisionTreeClassifier(), \n",
    "               RandomForestClassifier(), \n",
    "               AdaBoostClassifier(n_estimators=200,random_state=42,learning_rate=0.1)]\n",
    "\n",
    "# Create a list of names of classifiers created above. This will be used to print their respective accuracies\n",
    "classifier_names = ['LogReg', 'Gaussian Naive Bayes', 'KNN', 'SVC',  'DT', 'RF', 'AdaBoost']\n",
    "\n",
    "# Use a for loop to iterate over the classifiers and classifiers_names lists to create and fit the models\n",
    "for classifier, classifier_name in zip(classifiers, classifier_names) :\n",
    "    # Create the model\n",
    "    clf = classifier\n",
    "    \n",
    "    # Fit the model\n",
    "    clf.fit(X_train, y_train)\n",
    "    \n",
    "    # Get predictions\n",
    "    y_pred = clf.predict(X_test)\n",
    "    \n",
    "    # Calculate the accuracy and recall of the model\n",
    "    acc = accuracy_score(y_test, y_pred)\n",
    "    \n",
    "    # printing the results\n",
    "    print(classifier_name, '\\tAccuracy :',acc)"
   ]
  },
  {
   "cell_type": "code",
   "execution_count": null,
   "id": "adopted-campus",
   "metadata": {},
   "outputs": [],
   "source": [
    "# rf = RandomForestClassifier(**gs_rf.best_params_)\n",
    "rfc=RandomForestClassifier(random_state=42)\n",
    "\n",
    "param_grid_rfc = { \n",
    "    'n_estimators': [40,200],\n",
    "    'max_features': ['auto', 'sqrt', 'log2'],\n",
    "    'max_depth' : [4,5,6,7,8],\n",
    "    'criterion' :['gini', 'entropy']\n",
    "}\n",
    "\n",
    "gs_rfc = GridSearchCV(estimator=rfc, param_grid=param_grid_rfc, cv= 5)\n",
    "gs_rfc.fit(X_train_res, y_train_res)"
   ]
  },
  {
   "cell_type": "code",
   "execution_count": null,
   "id": "suspected-general",
   "metadata": {},
   "outputs": [],
   "source": [
    "print('rf training best score',gs_rfc.best_score_)\n",
    "print('best estimator',gs_rfc.best_estimator_)\n",
    "print('best params',gs_rfc.best_params_)"
   ]
  },
  {
   "cell_type": "code",
   "execution_count": null,
   "id": "acting-visibility",
   "metadata": {},
   "outputs": [],
   "source": [
    "rf = RandomForestClassifier(**gs_rfc.best_params_)\n",
    "rf.fit(X_train_res, y_train_res.ravel())\n",
    "y_pred_test = rf.predict(X_test)\n",
    "\n",
    "#printing the scores\n",
    "print('RandomForest Cross_Val Score (Train): \\n', \n",
    "      cross_val_score(rf, X_train_res, y_train_res, cv=5).max())\n",
    "print()\n",
    "print('RandomForest Cross_Val Score (Test): \\n', \n",
    "      cross_val_score(rf, X_test, y_test, cv=5).max())\n",
    "print()\n",
    "print('accuracy: ',accuracy_score(y_test, y_pred))"
   ]
  },
  {
   "cell_type": "code",
   "execution_count": null,
   "id": "artistic-excellence",
   "metadata": {},
   "outputs": [],
   "source": [
    "plt.style.use('ggplot')\n",
    "plt.figure(figsize = (20,20))\n",
    "\n",
    "\n",
    "plot_confusion_matrix(rf, X_test, y_test, \n",
    "                      cmap='viridis', \n",
    "                      values_format='d');\n",
    "plt.title('Confusion matrix Using RandomForest');\n",
    "plt.xticks([0, 1, 2], ['Always', 'Sometimes', 'Never']);\n",
    "plt.yticks([0, 1, 2], ['Always', 'Sometimes', 'Never']);\n",
    "\n",
    "plt.xticks([0, 1, 2], ['Always', 'Sometimes', 'Never']);\n",
    "plt.yticks([0, 1, 2], ['Always', 'Sometimes', 'Never']);\n",
    "\n",
    "# plt.savefig(\"./graphs/confusion_matrix_rf_poly_smote.png\", dpi=300, bbox_inches='tight');\n"
   ]
  }
 ],
 "metadata": {
  "kernelspec": {
   "display_name": "Python 3",
   "language": "python",
   "name": "python3"
  },
  "language_info": {
   "codemirror_mode": {
    "name": "ipython",
    "version": 3
   },
   "file_extension": ".py",
   "mimetype": "text/x-python",
   "name": "python",
   "nbconvert_exporter": "python",
   "pygments_lexer": "ipython3",
   "version": "3.8.5"
  },
  "toc": {
   "base_numbering": 1,
   "nav_menu": {},
   "number_sections": true,
   "sideBar": true,
   "skip_h1_title": false,
   "title_cell": "Table of Contents",
   "title_sidebar": "Contents",
   "toc_cell": true,
   "toc_position": {},
   "toc_section_display": true,
   "toc_window_display": false
  }
 },
 "nbformat": 4,
 "nbformat_minor": 5
}
