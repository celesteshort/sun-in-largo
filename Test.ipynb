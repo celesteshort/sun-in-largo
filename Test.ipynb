{
 "cells": [
  {
   "cell_type": "markdown",
   "id": "adapted-armor",
   "metadata": {
    "toc": true
   },
   "source": [
    "<h1>Table of Contents<span class=\"tocSkip\"></span></h1>\n",
    "<div class=\"toc\"><ul class=\"toc-item\"></ul></div>"
   ]
  },
  {
   "cell_type": "code",
   "execution_count": 3,
   "id": "stuffed-acrobat",
   "metadata": {},
   "outputs": [
    {
     "name": "stdout",
     "output_type": "stream",
     "text": [
      "Collecting folium\n",
      "  Downloading folium-0.12.1-py2.py3-none-any.whl (94 kB)\n",
      "\u001b[K     |████████████████████████████████| 94 kB 1.7 MB/s eta 0:00:01\n",
      "\u001b[?25hRequirement already satisfied: requests in /Users/celeste/opt/anaconda3/lib/python3.8/site-packages (from folium) (2.25.1)\n",
      "Requirement already satisfied: jinja2>=2.9 in /Users/celeste/opt/anaconda3/lib/python3.8/site-packages (from folium) (2.11.3)\n",
      "Requirement already satisfied: numpy in /Users/celeste/opt/anaconda3/lib/python3.8/site-packages (from folium) (1.20.0)\n",
      "Collecting branca>=0.3.0\n",
      "  Downloading branca-0.4.2-py3-none-any.whl (24 kB)\n",
      "Requirement already satisfied: MarkupSafe>=0.23 in /Users/celeste/opt/anaconda3/lib/python3.8/site-packages (from jinja2>=2.9->folium) (1.1.1)\n",
      "Requirement already satisfied: urllib3<1.27,>=1.21.1 in /Users/celeste/opt/anaconda3/lib/python3.8/site-packages (from requests->folium) (1.26.3)\n",
      "Requirement already satisfied: idna<3,>=2.5 in /Users/celeste/opt/anaconda3/lib/python3.8/site-packages (from requests->folium) (2.10)\n",
      "Requirement already satisfied: chardet<5,>=3.0.2 in /Users/celeste/opt/anaconda3/lib/python3.8/site-packages (from requests->folium) (3.0.4)\n",
      "Requirement already satisfied: certifi>=2017.4.17 in /Users/celeste/opt/anaconda3/lib/python3.8/site-packages (from requests->folium) (2020.12.5)\n",
      "Installing collected packages: branca, folium\n",
      "Successfully installed branca-0.4.2 folium-0.12.1\n",
      "Note: you may need to restart the kernel to use updated packages.\n"
     ]
    }
   ],
   "source": [
    "pip install folium"
   ]
  },
  {
   "cell_type": "code",
   "execution_count": 2,
   "id": "reliable-communications",
   "metadata": {},
   "outputs": [],
   "source": [
    "import pandas as pd\n",
    "import numpy as np"
   ]
  },
  {
   "cell_type": "code",
   "execution_count": 11,
   "id": "different-handy",
   "metadata": {},
   "outputs": [],
   "source": [
    "import folium as folium"
   ]
  },
  {
   "cell_type": "code",
   "execution_count": 12,
   "id": "universal-secret",
   "metadata": {},
   "outputs": [],
   "source": [
    "df = pd.read_csv('./LoanStats/loans_with_date.csv')"
   ]
  },
  {
   "cell_type": "code",
   "execution_count": 13,
   "id": "laughing-median",
   "metadata": {},
   "outputs": [
    {
     "data": {
      "text/html": [
       "<div>\n",
       "<style scoped>\n",
       "    .dataframe tbody tr th:only-of-type {\n",
       "        vertical-align: middle;\n",
       "    }\n",
       "\n",
       "    .dataframe tbody tr th {\n",
       "        vertical-align: top;\n",
       "    }\n",
       "\n",
       "    .dataframe thead th {\n",
       "        text-align: right;\n",
       "    }\n",
       "</style>\n",
       "<table border=\"1\" class=\"dataframe\">\n",
       "  <thead>\n",
       "    <tr style=\"text-align: right;\">\n",
       "      <th></th>\n",
       "      <th>Unnamed: 0</th>\n",
       "      <th>funded_amnt</th>\n",
       "      <th>emp_length</th>\n",
       "      <th>annual_inc</th>\n",
       "      <th>loan_status</th>\n",
       "      <th>home_ownership</th>\n",
       "      <th>int_rate</th>\n",
       "      <th>addr_state</th>\n",
       "      <th>grade</th>\n",
       "      <th>issue_d</th>\n",
       "      <th>purpose</th>\n",
       "      <th>dti</th>\n",
       "      <th>term</th>\n",
       "      <th>zip_code</th>\n",
       "    </tr>\n",
       "  </thead>\n",
       "  <tbody>\n",
       "    <tr>\n",
       "      <th>0</th>\n",
       "      <td>0</td>\n",
       "      <td>3600.0</td>\n",
       "      <td>10+ years</td>\n",
       "      <td>55000.0</td>\n",
       "      <td>Fully Paid</td>\n",
       "      <td>MORTGAGE</td>\n",
       "      <td>13.99</td>\n",
       "      <td>PA</td>\n",
       "      <td>C</td>\n",
       "      <td>Dec-2015</td>\n",
       "      <td>debt_consolidation</td>\n",
       "      <td>5.91</td>\n",
       "      <td>36 months</td>\n",
       "      <td>190xx</td>\n",
       "    </tr>\n",
       "    <tr>\n",
       "      <th>1</th>\n",
       "      <td>1</td>\n",
       "      <td>24700.0</td>\n",
       "      <td>10+ years</td>\n",
       "      <td>65000.0</td>\n",
       "      <td>Fully Paid</td>\n",
       "      <td>MORTGAGE</td>\n",
       "      <td>11.99</td>\n",
       "      <td>SD</td>\n",
       "      <td>C</td>\n",
       "      <td>Dec-2015</td>\n",
       "      <td>small_business</td>\n",
       "      <td>16.06</td>\n",
       "      <td>36 months</td>\n",
       "      <td>577xx</td>\n",
       "    </tr>\n",
       "    <tr>\n",
       "      <th>2</th>\n",
       "      <td>2</td>\n",
       "      <td>20000.0</td>\n",
       "      <td>10+ years</td>\n",
       "      <td>63000.0</td>\n",
       "      <td>Fully Paid</td>\n",
       "      <td>MORTGAGE</td>\n",
       "      <td>10.78</td>\n",
       "      <td>IL</td>\n",
       "      <td>B</td>\n",
       "      <td>Dec-2015</td>\n",
       "      <td>home_improvement</td>\n",
       "      <td>10.78</td>\n",
       "      <td>60 months</td>\n",
       "      <td>605xx</td>\n",
       "    </tr>\n",
       "    <tr>\n",
       "      <th>3</th>\n",
       "      <td>3</td>\n",
       "      <td>35000.0</td>\n",
       "      <td>10+ years</td>\n",
       "      <td>110000.0</td>\n",
       "      <td>Current</td>\n",
       "      <td>MORTGAGE</td>\n",
       "      <td>14.85</td>\n",
       "      <td>NJ</td>\n",
       "      <td>C</td>\n",
       "      <td>Dec-2015</td>\n",
       "      <td>debt_consolidation</td>\n",
       "      <td>17.06</td>\n",
       "      <td>60 months</td>\n",
       "      <td>076xx</td>\n",
       "    </tr>\n",
       "    <tr>\n",
       "      <th>4</th>\n",
       "      <td>4</td>\n",
       "      <td>10400.0</td>\n",
       "      <td>3 years</td>\n",
       "      <td>104433.0</td>\n",
       "      <td>Fully Paid</td>\n",
       "      <td>MORTGAGE</td>\n",
       "      <td>22.45</td>\n",
       "      <td>PA</td>\n",
       "      <td>F</td>\n",
       "      <td>Dec-2015</td>\n",
       "      <td>major_purchase</td>\n",
       "      <td>25.37</td>\n",
       "      <td>60 months</td>\n",
       "      <td>174xx</td>\n",
       "    </tr>\n",
       "  </tbody>\n",
       "</table>\n",
       "</div>"
      ],
      "text/plain": [
       "   Unnamed: 0  funded_amnt emp_length  annual_inc loan_status home_ownership  \\\n",
       "0           0       3600.0  10+ years     55000.0  Fully Paid       MORTGAGE   \n",
       "1           1      24700.0  10+ years     65000.0  Fully Paid       MORTGAGE   \n",
       "2           2      20000.0  10+ years     63000.0  Fully Paid       MORTGAGE   \n",
       "3           3      35000.0  10+ years    110000.0     Current       MORTGAGE   \n",
       "4           4      10400.0    3 years    104433.0  Fully Paid       MORTGAGE   \n",
       "\n",
       "   int_rate addr_state grade   issue_d             purpose    dti        term  \\\n",
       "0     13.99         PA     C  Dec-2015  debt_consolidation   5.91   36 months   \n",
       "1     11.99         SD     C  Dec-2015      small_business  16.06   36 months   \n",
       "2     10.78         IL     B  Dec-2015    home_improvement  10.78   60 months   \n",
       "3     14.85         NJ     C  Dec-2015  debt_consolidation  17.06   60 months   \n",
       "4     22.45         PA     F  Dec-2015      major_purchase  25.37   60 months   \n",
       "\n",
       "  zip_code  \n",
       "0    190xx  \n",
       "1    577xx  \n",
       "2    605xx  \n",
       "3    076xx  \n",
       "4    174xx  "
      ]
     },
     "execution_count": 13,
     "metadata": {},
     "output_type": "execute_result"
    }
   ],
   "source": [
    "df.head()"
   ]
  },
  {
   "cell_type": "code",
   "execution_count": 14,
   "id": "original-perspective",
   "metadata": {},
   "outputs": [],
   "source": [
    "state = df['addr_state']"
   ]
  },
  {
   "cell_type": "code",
   "execution_count": 15,
   "id": "blocked-burke",
   "metadata": {},
   "outputs": [
    {
     "data": {
      "text/plain": [
       "0    PA\n",
       "1    SD\n",
       "2    IL\n",
       "3    NJ\n",
       "4    PA\n",
       "Name: addr_state, dtype: object"
      ]
     },
     "execution_count": 15,
     "metadata": {},
     "output_type": "execute_result"
    }
   ],
   "source": [
    "state.head()"
   ]
  },
  {
   "cell_type": "code",
   "execution_count": 16,
   "id": "hybrid-europe",
   "metadata": {},
   "outputs": [],
   "source": [
    "#read in map\n",
    "my_USA_map = '../data/us-states.json'"
   ]
  },
  {
   "cell_type": "code",
   "execution_count": 17,
   "id": "novel-placement",
   "metadata": {},
   "outputs": [],
   "source": [
    "map = folium.Map(location=[48, -102], zoom_start=3)"
   ]
  },
  {
   "cell_type": "code",
   "execution_count": 19,
   "id": "outer-armstrong",
   "metadata": {},
   "outputs": [
    {
     "name": "stderr",
     "output_type": "stream",
     "text": [
      "/Users/celeste/opt/anaconda3/lib/python3.8/site-packages/folium/folium.py:409: FutureWarning: The choropleth  method has been deprecated. Instead use the new Choropleth class, which has the same arguments. See the example notebook 'GeoJSON_and_choropleth' for how to do this.\n",
      "  warnings.warn(\n"
     ]
    },
    {
     "ename": "TypeError",
     "evalue": "__init__() missing 1 required positional argument: 'geo_data'",
     "output_type": "error",
     "traceback": [
      "\u001b[0;31m---------------------------------------------------------------------------\u001b[0m",
      "\u001b[0;31mTypeError\u001b[0m                                 Traceback (most recent call last)",
      "\u001b[0;32m<ipython-input-19-6672d68361dc>\u001b[0m in \u001b[0;36m<module>\u001b[0;34m\u001b[0m\n\u001b[0;32m----> 1\u001b[0;31m map.choropleth(geo_path=my_USA_map, data=state, \n\u001b[0m\u001b[1;32m      2\u001b[0m             \u001b[0mcolumns\u001b[0m\u001b[0;34m=\u001b[0m\u001b[0;34m[\u001b[0m\u001b[0;34m'State'\u001b[0m\u001b[0;34m]\u001b[0m\u001b[0;34m,\u001b[0m\u001b[0;34m\u001b[0m\u001b[0;34m\u001b[0m\u001b[0m\n\u001b[1;32m      3\u001b[0m             \u001b[0mkey_on\u001b[0m\u001b[0;34m=\u001b[0m\u001b[0;34m'feature_id'\u001b[0m\u001b[0;34m,\u001b[0m\u001b[0;34m\u001b[0m\u001b[0;34m\u001b[0m\u001b[0m\n\u001b[1;32m      4\u001b[0m             fill_color='BuPu')\n",
      "\u001b[0;32m~/opt/anaconda3/lib/python3.8/site-packages/folium/folium.py\u001b[0m in \u001b[0;36mchoropleth\u001b[0;34m(self, *args, **kwargs)\u001b[0m\n\u001b[1;32m    414\u001b[0m         )\n\u001b[1;32m    415\u001b[0m         \u001b[0;32mfrom\u001b[0m \u001b[0mfolium\u001b[0m\u001b[0;34m.\u001b[0m\u001b[0mfeatures\u001b[0m \u001b[0;32mimport\u001b[0m \u001b[0mChoropleth\u001b[0m\u001b[0;34m\u001b[0m\u001b[0;34m\u001b[0m\u001b[0m\n\u001b[0;32m--> 416\u001b[0;31m         \u001b[0mself\u001b[0m\u001b[0;34m.\u001b[0m\u001b[0madd_child\u001b[0m\u001b[0;34m(\u001b[0m\u001b[0mChoropleth\u001b[0m\u001b[0;34m(\u001b[0m\u001b[0;34m*\u001b[0m\u001b[0margs\u001b[0m\u001b[0;34m,\u001b[0m \u001b[0;34m**\u001b[0m\u001b[0mkwargs\u001b[0m\u001b[0;34m)\u001b[0m\u001b[0;34m)\u001b[0m\u001b[0;34m\u001b[0m\u001b[0;34m\u001b[0m\u001b[0m\n\u001b[0m\u001b[1;32m    417\u001b[0m \u001b[0;34m\u001b[0m\u001b[0m\n\u001b[1;32m    418\u001b[0m     \u001b[0;32mdef\u001b[0m \u001b[0mkeep_in_front\u001b[0m\u001b[0;34m(\u001b[0m\u001b[0mself\u001b[0m\u001b[0;34m,\u001b[0m \u001b[0;34m*\u001b[0m\u001b[0margs\u001b[0m\u001b[0;34m)\u001b[0m\u001b[0;34m:\u001b[0m\u001b[0;34m\u001b[0m\u001b[0;34m\u001b[0m\u001b[0m\n",
      "\u001b[0;31mTypeError\u001b[0m: __init__() missing 1 required positional argument: 'geo_data'"
     ]
    }
   ],
   "source": [
    "map.choropleth(geo_path=my_USA_map, data=state, \n",
    "            columns=['State'], \n",
    "            key_on='feature_id', \n",
    "            fill_color='BuPu')"
   ]
  },
  {
   "cell_type": "code",
   "execution_count": null,
   "id": "excellent-technology",
   "metadata": {},
   "outputs": [],
   "source": []
  }
 ],
 "metadata": {
  "kernelspec": {
   "display_name": "Python 3",
   "language": "python",
   "name": "python3"
  },
  "language_info": {
   "codemirror_mode": {
    "name": "ipython",
    "version": 3
   },
   "file_extension": ".py",
   "mimetype": "text/x-python",
   "name": "python",
   "nbconvert_exporter": "python",
   "pygments_lexer": "ipython3",
   "version": "3.8.5"
  },
  "toc": {
   "base_numbering": 1,
   "nav_menu": {},
   "number_sections": true,
   "sideBar": true,
   "skip_h1_title": false,
   "title_cell": "Table of Contents",
   "title_sidebar": "Contents",
   "toc_cell": true,
   "toc_position": {},
   "toc_section_display": true,
   "toc_window_display": false
  }
 },
 "nbformat": 4,
 "nbformat_minor": 5
}
