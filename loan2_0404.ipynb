{
 "cells": [
  {
   "cell_type": "markdown",
   "id": "impressive-density",
   "metadata": {
    "toc": true
   },
   "source": [
    "<h1>Table of Contents<span class=\"tocSkip\"></span></h1>\n",
    "<div class=\"toc\"><ul class=\"toc-item\"><li><span><a href=\"#The-Data-Source\" data-toc-modified-id=\"The-Data-Source-1\"><span class=\"toc-item-num\">1&nbsp;&nbsp;</span>The Data Source</a></span></li><li><span><a href=\"#Problem-Statement\" data-toc-modified-id=\"Problem-Statement-2\"><span class=\"toc-item-num\">2&nbsp;&nbsp;</span>Problem Statement</a></span></li><li><span><a href=\"#Data-Cleaning\" data-toc-modified-id=\"Data-Cleaning-3\"><span class=\"toc-item-num\">3&nbsp;&nbsp;</span>Data Cleaning</a></span></li><li><span><a href=\"#Evaluation-(Explanatory-Data-Analysis)\" data-toc-modified-id=\"Evaluation-(Explanatory-Data-Analysis)-4\"><span class=\"toc-item-num\">4&nbsp;&nbsp;</span>Evaluation (Explanatory Data Analysis)</a></span><ul class=\"toc-item\"><li><ul class=\"toc-item\"><li><span><a href=\"#Note:\" data-toc-modified-id=\"Note:-4.0.1\"><span class=\"toc-item-num\">4.0.1&nbsp;&nbsp;</span>Note:</a></span></li><li><span><a href=\"#Note:\" data-toc-modified-id=\"Note:-4.0.2\"><span class=\"toc-item-num\">4.0.2&nbsp;&nbsp;</span>Note:</a></span></li></ul></li><li><span><a href=\"#Annual-Income\" data-toc-modified-id=\"Annual-Income-4.1\"><span class=\"toc-item-num\">4.1&nbsp;&nbsp;</span>Annual Income</a></span></li><li><span><a href=\"#Default-Rate-and-Grade\" data-toc-modified-id=\"Default-Rate-and-Grade-4.2\"><span class=\"toc-item-num\">4.2&nbsp;&nbsp;</span>Default Rate and Grade</a></span></li><li><span><a href=\"#Interest-Rate\" data-toc-modified-id=\"Interest-Rate-4.3\"><span class=\"toc-item-num\">4.3&nbsp;&nbsp;</span>Interest Rate</a></span><ul class=\"toc-item\"><li><span><a href=\"#Return-on-Investment-(ROI)\" data-toc-modified-id=\"Return-on-Investment-(ROI)-4.3.1\"><span class=\"toc-item-num\">4.3.1&nbsp;&nbsp;</span>Return on Investment (ROI)</a></span></li><li><span><a href=\"#Notes:\" data-toc-modified-id=\"Notes:-4.3.2\"><span class=\"toc-item-num\">4.3.2&nbsp;&nbsp;</span>Notes:</a></span></li></ul></li><li><span><a href=\"#Employment-History\" data-toc-modified-id=\"Employment-History-4.4\"><span class=\"toc-item-num\">4.4&nbsp;&nbsp;</span>Employment History</a></span></li><li><span><a href=\"#Funded-Amount\" data-toc-modified-id=\"Funded-Amount-4.5\"><span class=\"toc-item-num\">4.5&nbsp;&nbsp;</span>Funded Amount</a></span></li><li><span><a href=\"#Annual-Income\" data-toc-modified-id=\"Annual-Income-4.6\"><span class=\"toc-item-num\">4.6&nbsp;&nbsp;</span>Annual Income</a></span><ul class=\"toc-item\"><li><span><a href=\"#Notes---histogram,-scatterplot\" data-toc-modified-id=\"Notes---histogram,-scatterplot-4.6.1\"><span class=\"toc-item-num\">4.6.1&nbsp;&nbsp;</span>Notes - histogram, scatterplot</a></span></li></ul></li><li><span><a href=\"#Term\" data-toc-modified-id=\"Term-4.7\"><span class=\"toc-item-num\">4.7&nbsp;&nbsp;</span>Term</a></span></li><li><span><a href=\"#Home-Ownership\" data-toc-modified-id=\"Home-Ownership-4.8\"><span class=\"toc-item-num\">4.8&nbsp;&nbsp;</span>Home Ownership</a></span></li><li><span><a href=\"#Purpose\" data-toc-modified-id=\"Purpose-4.9\"><span class=\"toc-item-num\">4.9&nbsp;&nbsp;</span>Purpose</a></span></li><li><span><a href=\"#State-Address\" data-toc-modified-id=\"State-Address-4.10\"><span class=\"toc-item-num\">4.10&nbsp;&nbsp;</span>State Address</a></span></li><li><span><a href=\"#dti\" data-toc-modified-id=\"dti-4.11\"><span class=\"toc-item-num\">4.11&nbsp;&nbsp;</span>dti</a></span></li></ul></li><li><span><a href=\"#Correlation\" data-toc-modified-id=\"Correlation-5\"><span class=\"toc-item-num\">5&nbsp;&nbsp;</span>Correlation</a></span></li></ul></div>"
   ]
  },
  {
   "cell_type": "markdown",
   "id": "behavioral-daniel",
   "metadata": {},
   "source": [
    "## The Data Source"
   ]
  },
  {
   "cell_type": "markdown",
   "id": "accurate-tours",
   "metadata": {},
   "source": [
    "Source: https://www.lendingclub.com/info/download-data.action"
   ]
  },
  {
   "cell_type": "markdown",
   "id": "intimate-housing",
   "metadata": {},
   "source": [
    "LendingClub is a peer-to-peer lending company with its headquarters in San Francisco, California, began by operating as an online consumer-lending platform that enables borrowers to obtain an unsecured loan that's funded by individuals and insititutions. \n",
    "\n",
    "- The data from LendingClub is from 2007 to 2018Q4. "
   ]
  },
  {
   "cell_type": "markdown",
   "id": "middle-scene",
   "metadata": {},
   "source": [
    "## Problem Statement\n",
    "The goal, using Machine Learning models and some of the features in the data set, is to determine if someone defaulting on their loan."
   ]
  },
  {
   "cell_type": "code",
   "execution_count": 175,
   "id": "attended-shipping",
   "metadata": {},
   "outputs": [],
   "source": [
    "#import libraries\n",
    "import numpy as np\n",
    "import pandas as pd\n",
    "from nltk.corpus import stopwords\n",
    "#import re\n",
    "from sklearn.preprocessing import StandardScaler\n",
    "import matplotlib.pyplot as plt\n",
    "import seaborn as sns\n",
    "\n",
    "# Import train_test_split.\n",
    "from sklearn.model_selection import train_test_split\n",
    "# Import logistic regression\n",
    "from sklearn.linear_model import LogisticRegression\n",
    "\n",
    "%matplotlib inline"
   ]
  },
  {
   "cell_type": "code",
   "execution_count": 176,
   "id": "backed-surface",
   "metadata": {},
   "outputs": [],
   "source": [
    "#import the data\n",
    "loan2 = pd.read_csv('./LoanStats/loans_with_date.csv', low_memory=False)"
   ]
  },
  {
   "cell_type": "markdown",
   "id": "patent-franchise",
   "metadata": {},
   "source": [
    "There are 149 features in this dataset.  Some of them were used in the loan process.  We streamlined the features that are important for this analysis and created a new dataset.   "
   ]
  },
  {
   "cell_type": "markdown",
   "id": "billion-patrol",
   "metadata": {},
   "source": [
    "## Data Cleaning"
   ]
  },
  {
   "cell_type": "code",
   "execution_count": 177,
   "id": "continuing-stations",
   "metadata": {},
   "outputs": [
    {
     "name": "stdout",
     "output_type": "stream",
     "text": [
      " The shape of the data is (2260701, 19)\n"
     ]
    },
    {
     "data": {
      "text/html": [
       "<div>\n",
       "<style scoped>\n",
       "    .dataframe tbody tr th:only-of-type {\n",
       "        vertical-align: middle;\n",
       "    }\n",
       "\n",
       "    .dataframe tbody tr th {\n",
       "        vertical-align: top;\n",
       "    }\n",
       "\n",
       "    .dataframe thead th {\n",
       "        text-align: right;\n",
       "    }\n",
       "</style>\n",
       "<table border=\"1\" class=\"dataframe\">\n",
       "  <thead>\n",
       "    <tr style=\"text-align: right;\">\n",
       "      <th></th>\n",
       "      <th>Unnamed: 0</th>\n",
       "      <th>funded_amnt</th>\n",
       "      <th>emp_length</th>\n",
       "      <th>annual_inc</th>\n",
       "      <th>loan_status</th>\n",
       "      <th>loan_amnt</th>\n",
       "      <th>home_ownership</th>\n",
       "      <th>int_rate</th>\n",
       "      <th>addr_state</th>\n",
       "      <th>grade</th>\n",
       "      <th>term</th>\n",
       "      <th>installment</th>\n",
       "      <th>sub_grade</th>\n",
       "      <th>total_pymnt</th>\n",
       "      <th>issue_d</th>\n",
       "      <th>funded_amnt_inv</th>\n",
       "      <th>purpose</th>\n",
       "      <th>dti</th>\n",
       "      <th>zip_code</th>\n",
       "    </tr>\n",
       "  </thead>\n",
       "  <tbody>\n",
       "    <tr>\n",
       "      <th>0</th>\n",
       "      <td>0</td>\n",
       "      <td>3600.0</td>\n",
       "      <td>10+ years</td>\n",
       "      <td>55000.0</td>\n",
       "      <td>Fully Paid</td>\n",
       "      <td>3600.0</td>\n",
       "      <td>MORTGAGE</td>\n",
       "      <td>13.99</td>\n",
       "      <td>PA</td>\n",
       "      <td>C</td>\n",
       "      <td>36 months</td>\n",
       "      <td>123.03</td>\n",
       "      <td>C4</td>\n",
       "      <td>4421.723917</td>\n",
       "      <td>Dec-2015</td>\n",
       "      <td>3600.0</td>\n",
       "      <td>debt_consolidation</td>\n",
       "      <td>5.91</td>\n",
       "      <td>190xx</td>\n",
       "    </tr>\n",
       "    <tr>\n",
       "      <th>1</th>\n",
       "      <td>1</td>\n",
       "      <td>24700.0</td>\n",
       "      <td>10+ years</td>\n",
       "      <td>65000.0</td>\n",
       "      <td>Fully Paid</td>\n",
       "      <td>24700.0</td>\n",
       "      <td>MORTGAGE</td>\n",
       "      <td>11.99</td>\n",
       "      <td>SD</td>\n",
       "      <td>C</td>\n",
       "      <td>36 months</td>\n",
       "      <td>820.28</td>\n",
       "      <td>C1</td>\n",
       "      <td>25679.660000</td>\n",
       "      <td>Dec-2015</td>\n",
       "      <td>24700.0</td>\n",
       "      <td>small_business</td>\n",
       "      <td>16.06</td>\n",
       "      <td>577xx</td>\n",
       "    </tr>\n",
       "    <tr>\n",
       "      <th>2</th>\n",
       "      <td>2</td>\n",
       "      <td>20000.0</td>\n",
       "      <td>10+ years</td>\n",
       "      <td>63000.0</td>\n",
       "      <td>Fully Paid</td>\n",
       "      <td>20000.0</td>\n",
       "      <td>MORTGAGE</td>\n",
       "      <td>10.78</td>\n",
       "      <td>IL</td>\n",
       "      <td>B</td>\n",
       "      <td>60 months</td>\n",
       "      <td>432.66</td>\n",
       "      <td>B4</td>\n",
       "      <td>22705.924294</td>\n",
       "      <td>Dec-2015</td>\n",
       "      <td>20000.0</td>\n",
       "      <td>home_improvement</td>\n",
       "      <td>10.78</td>\n",
       "      <td>605xx</td>\n",
       "    </tr>\n",
       "    <tr>\n",
       "      <th>3</th>\n",
       "      <td>3</td>\n",
       "      <td>35000.0</td>\n",
       "      <td>10+ years</td>\n",
       "      <td>110000.0</td>\n",
       "      <td>Current</td>\n",
       "      <td>35000.0</td>\n",
       "      <td>MORTGAGE</td>\n",
       "      <td>14.85</td>\n",
       "      <td>NJ</td>\n",
       "      <td>C</td>\n",
       "      <td>60 months</td>\n",
       "      <td>829.90</td>\n",
       "      <td>C5</td>\n",
       "      <td>31464.010000</td>\n",
       "      <td>Dec-2015</td>\n",
       "      <td>35000.0</td>\n",
       "      <td>debt_consolidation</td>\n",
       "      <td>17.06</td>\n",
       "      <td>076xx</td>\n",
       "    </tr>\n",
       "    <tr>\n",
       "      <th>4</th>\n",
       "      <td>4</td>\n",
       "      <td>10400.0</td>\n",
       "      <td>3 years</td>\n",
       "      <td>104433.0</td>\n",
       "      <td>Fully Paid</td>\n",
       "      <td>10400.0</td>\n",
       "      <td>MORTGAGE</td>\n",
       "      <td>22.45</td>\n",
       "      <td>PA</td>\n",
       "      <td>F</td>\n",
       "      <td>60 months</td>\n",
       "      <td>289.91</td>\n",
       "      <td>F1</td>\n",
       "      <td>11740.500000</td>\n",
       "      <td>Dec-2015</td>\n",
       "      <td>10400.0</td>\n",
       "      <td>major_purchase</td>\n",
       "      <td>25.37</td>\n",
       "      <td>174xx</td>\n",
       "    </tr>\n",
       "  </tbody>\n",
       "</table>\n",
       "</div>"
      ],
      "text/plain": [
       "   Unnamed: 0  funded_amnt emp_length  annual_inc loan_status  loan_amnt  \\\n",
       "0           0       3600.0  10+ years     55000.0  Fully Paid     3600.0   \n",
       "1           1      24700.0  10+ years     65000.0  Fully Paid    24700.0   \n",
       "2           2      20000.0  10+ years     63000.0  Fully Paid    20000.0   \n",
       "3           3      35000.0  10+ years    110000.0     Current    35000.0   \n",
       "4           4      10400.0    3 years    104433.0  Fully Paid    10400.0   \n",
       "\n",
       "  home_ownership  int_rate addr_state grade        term  installment  \\\n",
       "0       MORTGAGE     13.99         PA     C   36 months       123.03   \n",
       "1       MORTGAGE     11.99         SD     C   36 months       820.28   \n",
       "2       MORTGAGE     10.78         IL     B   60 months       432.66   \n",
       "3       MORTGAGE     14.85         NJ     C   60 months       829.90   \n",
       "4       MORTGAGE     22.45         PA     F   60 months       289.91   \n",
       "\n",
       "  sub_grade   total_pymnt   issue_d  funded_amnt_inv             purpose  \\\n",
       "0        C4   4421.723917  Dec-2015           3600.0  debt_consolidation   \n",
       "1        C1  25679.660000  Dec-2015          24700.0      small_business   \n",
       "2        B4  22705.924294  Dec-2015          20000.0    home_improvement   \n",
       "3        C5  31464.010000  Dec-2015          35000.0  debt_consolidation   \n",
       "4        F1  11740.500000  Dec-2015          10400.0      major_purchase   \n",
       "\n",
       "     dti zip_code  \n",
       "0   5.91    190xx  \n",
       "1  16.06    577xx  \n",
       "2  10.78    605xx  \n",
       "3  17.06    076xx  \n",
       "4  25.37    174xx  "
      ]
     },
     "execution_count": 177,
     "metadata": {},
     "output_type": "execute_result"
    }
   ],
   "source": [
    "print(f' The shape of the data is {loan2.shape}')\n",
    "loan2.head()"
   ]
  },
  {
   "cell_type": "code",
   "execution_count": 178,
   "id": "musical-snowboard",
   "metadata": {},
   "outputs": [],
   "source": [
    "#removed the Unnamed Column\n",
    "loan2.drop(columns=['Unnamed: 0'], inplace=True)"
   ]
  },
  {
   "cell_type": "code",
   "execution_count": 179,
   "id": "shaped-heath",
   "metadata": {},
   "outputs": [
    {
     "name": "stdout",
     "output_type": "stream",
     "text": [
      "<class 'pandas.core.frame.DataFrame'>\n",
      "RangeIndex: 2260701 entries, 0 to 2260700\n",
      "Data columns (total 18 columns):\n",
      " #   Column           Dtype  \n",
      "---  ------           -----  \n",
      " 0   funded_amnt      float64\n",
      " 1   emp_length       object \n",
      " 2   annual_inc       float64\n",
      " 3   loan_status      object \n",
      " 4   loan_amnt        float64\n",
      " 5   home_ownership   object \n",
      " 6   int_rate         float64\n",
      " 7   addr_state       object \n",
      " 8   grade            object \n",
      " 9   term             object \n",
      " 10  installment      float64\n",
      " 11  sub_grade        object \n",
      " 12  total_pymnt      float64\n",
      " 13  issue_d          object \n",
      " 14  funded_amnt_inv  float64\n",
      " 15  purpose          object \n",
      " 16  dti              float64\n",
      " 17  zip_code         object \n",
      "dtypes: float64(8), object(10)\n",
      "memory usage: 310.5+ MB\n"
     ]
    }
   ],
   "source": [
    "loan2.info()"
   ]
  },
  {
   "cell_type": "code",
   "execution_count": 180,
   "id": "subject-certificate",
   "metadata": {},
   "outputs": [
    {
     "data": {
      "text/plain": [
       "funded_amnt            33\n",
       "emp_length         146940\n",
       "annual_inc             37\n",
       "loan_status            33\n",
       "loan_amnt              33\n",
       "home_ownership         33\n",
       "int_rate               33\n",
       "addr_state             33\n",
       "grade                  33\n",
       "term                   33\n",
       "installment            33\n",
       "sub_grade              33\n",
       "total_pymnt            33\n",
       "issue_d                33\n",
       "funded_amnt_inv        33\n",
       "purpose                33\n",
       "dti                  1744\n",
       "zip_code               34\n",
       "dtype: int64"
      ]
     },
     "execution_count": 180,
     "metadata": {},
     "output_type": "execute_result"
    }
   ],
   "source": [
    "loan2.isnull().sum()"
   ]
  },
  {
   "cell_type": "code",
   "execution_count": 181,
   "id": "comfortable-assist",
   "metadata": {},
   "outputs": [],
   "source": [
    "#drop 147058 rows that contained many null values\n",
    "loan2.dropna(inplace=True)"
   ]
  },
  {
   "cell_type": "code",
   "execution_count": 182,
   "id": "electronic-johnston",
   "metadata": {},
   "outputs": [
    {
     "data": {
      "text/plain": [
       "(2113643, 18)"
      ]
     },
     "execution_count": 182,
     "metadata": {},
     "output_type": "execute_result"
    }
   ],
   "source": [
    "loan2.shape"
   ]
  },
  {
   "cell_type": "markdown",
   "id": "precious-organization",
   "metadata": {},
   "source": [
    "## Evaluation (Explanatory Data Analysis)"
   ]
  },
  {
   "cell_type": "code",
   "execution_count": 183,
   "id": "mathematical-publication",
   "metadata": {},
   "outputs": [
    {
     "data": {
      "text/plain": [
       "Fully Paid                                             1019355\n",
       "Current                                                 812752\n",
       "Charged Off                                             247426\n",
       "Late (31-120 days)                                       19616\n",
       "In Grace Period                                           7849\n",
       "Late (16-30 days)                                         3899\n",
       "Does not meet the credit policy. Status:Fully Paid        1965\n",
       "Does not meet the credit policy. Status:Charged Off        746\n",
       "Default                                                     35\n",
       "Name: loan_status, dtype: int64"
      ]
     },
     "execution_count": 183,
     "metadata": {},
     "output_type": "execute_result"
    }
   ],
   "source": [
    "loan2.loan_status.value_counts()"
   ]
  },
  {
   "cell_type": "code",
   "execution_count": 184,
   "id": "reserved-collect",
   "metadata": {},
   "outputs": [],
   "source": [
    "loan2.drop(loan2[loan2['loan_status']=='Does not meet the credit policy. Status:Fully Paid'].index, inplace=True)\n",
    "loan2.drop(loan2[loan2['loan_status']=='Does not meet the credit policy. Status:Charged Off'].index, inplace=True)\n",
    "loan2.drop(loan2[loan2['loan_status']== 0].index, inplace=True)"
   ]
  },
  {
   "cell_type": "code",
   "execution_count": 185,
   "id": "determined-refund",
   "metadata": {},
   "outputs": [
    {
     "data": {
      "image/png": "[encoded data removed]",
      "text/plain": [
       "<Figure size 720x360 with 1 Axes>"
      ]
     },
     "metadata": {
      "needs_background": "light"
     },
     "output_type": "display_data"
    }
   ],
   "source": [
    "plt.figure(figsize=(10,5))\n",
    "plt.bar(['Current', 'Charged Off', 'Fully Paid', \n",
    "        'In Grace Period',\n",
    "        'Late (31-120 days)', 'Late (16-30 days)', 'Default'],\n",
    "        loan2['loan_status'].value_counts());\n",
    "plt.xticks(rotation = 45);\n",
    "plt.xlabel('Loan status');\n",
    "plt.ylabel('The count of number of borrowers')\n",
    "plt.title('Loan status distribution');"
   ]
  },
  {
   "cell_type": "markdown",
   "id": "defensive-steering",
   "metadata": {},
   "source": [
    "#### Note:\n",
    "\n",
    "There are a lot of loans which are current with an ok amount of fully paid loans.  The other categories and default are really low.  \n",
    "We dropped (3) classes from loan_status because they did not \"meet credit policy\" (Does not meet the credit policy. Status:Fully Paid, Does not meet the credit policy. Status:Charged Off).\n"
   ]
  },
  {
   "cell_type": "code",
   "execution_count": 186,
   "id": "least-niger",
   "metadata": {},
   "outputs": [],
   "source": [
    "loan2['loan_status_1'] = loan2['loan_status'].map({\"Current\": 2,\n",
    "                                    \"Fully Paid\": 1, \"In Grace Period\": 0, \n",
    "                                    \"Late (16-30 days)\": 0, \n",
    "                                    \"Late (31-120 days)\": 0,\n",
    "                                    \"Charged Off\" : 0, \"Default\" : 0\n",
    "                                                      })"
   ]
  },
  {
   "cell_type": "code",
   "execution_count": 187,
   "id": "moved-actor",
   "metadata": {},
   "outputs": [],
   "source": [
    "# Remove all loans that are Current\n",
    "# We only want to keep Late or Fully Paid\n",
    "loan2 = loan2[loan2['loan_status_1'] != 2]"
   ]
  },
  {
   "cell_type": "code",
   "execution_count": 188,
   "id": "metric-academy",
   "metadata": {},
   "outputs": [
    {
     "data": {
      "image/png": "[encoded data removed]",
      "text/plain": [
       "<Figure size 432x288 with 1 Axes>"
      ]
     },
     "metadata": {
      "needs_background": "light"
     },
     "output_type": "display_data"
    }
   ],
   "source": [
    "loan2.loan_status_1.value_counts().plot(kind='bar',alpha=.30);\n",
    "plt.title('The Fully Paid (1) and Default (0) borrowers');"
   ]
  },
  {
   "cell_type": "markdown",
   "id": "pointed-shower",
   "metadata": {},
   "source": [
    "#### Note:\n",
    "\n",
    "Fully Paid in loan status is the target variable.\n",
    "We only need to know who Fully Paid their loan, or who is in default.  Anyone who is CURRENT doesn't matter for our analysis purposes.  We only care about those who have PAID or those who are in DEFAULT.\n",
    "\n",
    "We mapped values in the loan_status as: Fully Paid = 1, Current = 2 and the remainders, 0."
   ]
  },
  {
   "cell_type": "code",
   "execution_count": 189,
   "id": "alike-ethernet",
   "metadata": {},
   "outputs": [
    {
     "data": {
      "text/plain": [
       "1    1019355\n",
       "0     278825\n",
       "Name: loan_status_1, dtype: int64"
      ]
     },
     "execution_count": 189,
     "metadata": {},
     "output_type": "execute_result"
    }
   ],
   "source": [
    "#removing Current from the evaluation reduced the shape by 85_600\n",
    "loan2.loan_status_1.value_counts()"
   ]
  },
  {
   "cell_type": "code",
   "execution_count": 190,
   "id": "through-sociology",
   "metadata": {},
   "outputs": [
    {
     "data": {
      "text/plain": [
       "0.7852185367206397"
      ]
     },
     "execution_count": 190,
     "metadata": {},
     "output_type": "execute_result"
    }
   ],
   "source": [
    "#data is skewed with 78.5% Fully Paid and 21.5% Default\n",
    "loan2['loan_status_1'].value_counts()[1]/len(loan2['loan_status_1'])"
   ]
  },
  {
   "cell_type": "code",
   "execution_count": 191,
   "id": "shared-lawrence",
   "metadata": {},
   "outputs": [
    {
     "data": {
      "text/html": [
       "<div>\n",
       "<style scoped>\n",
       "    .dataframe tbody tr th:only-of-type {\n",
       "        vertical-align: middle;\n",
       "    }\n",
       "\n",
       "    .dataframe tbody tr th {\n",
       "        vertical-align: top;\n",
       "    }\n",
       "\n",
       "    .dataframe thead th {\n",
       "        text-align: right;\n",
       "    }\n",
       "</style>\n",
       "<table border=\"1\" class=\"dataframe\">\n",
       "  <thead>\n",
       "    <tr style=\"text-align: right;\">\n",
       "      <th></th>\n",
       "      <th>loan_amnt</th>\n",
       "    </tr>\n",
       "    <tr>\n",
       "      <th>loan_status_1</th>\n",
       "      <th></th>\n",
       "    </tr>\n",
       "  </thead>\n",
       "  <tbody>\n",
       "    <tr>\n",
       "      <th>0</th>\n",
       "      <td>16058.430019</td>\n",
       "    </tr>\n",
       "    <tr>\n",
       "      <th>1</th>\n",
       "      <td>14292.032192</td>\n",
       "    </tr>\n",
       "  </tbody>\n",
       "</table>\n",
       "</div>"
      ],
      "text/plain": [
       "                  loan_amnt\n",
       "loan_status_1              \n",
       "0              16058.430019\n",
       "1              14292.032192"
      ]
     },
     "execution_count": 191,
     "metadata": {},
     "output_type": "execute_result"
    }
   ],
   "source": [
    "#the average loan amount and the loan status\n",
    "loan2[['loan_amnt','loan_status_1']].groupby(by='loan_status_1').mean()"
   ]
  },
  {
   "cell_type": "code",
   "execution_count": 192,
   "id": "printable-haven",
   "metadata": {},
   "outputs": [
    {
     "data": {
      "image/png": "[encoded data removed]",
      "text/plain": [
       "<Figure size 432x288 with 1 Axes>"
      ]
     },
     "metadata": {
      "needs_background": "light"
     },
     "output_type": "display_data"
    }
   ],
   "source": [
    "sns.boxplot(x='loan_status_1', y='funded_amnt', data=loan2);"
   ]
  },
  {
   "cell_type": "code",
   "execution_count": 193,
   "id": "distributed-rendering",
   "metadata": {},
   "outputs": [
    {
     "data": {
      "image/png": "[encoded data removed]",
      "text/plain": [
       "<Figure size 432x288 with 1 Axes>"
      ]
     },
     "metadata": {
      "needs_background": "light"
     },
     "output_type": "display_data"
    }
   ],
   "source": [
    "plt.scatter(loan2['installment'], loan2['funded_amnt']);"
   ]
  },
  {
   "cell_type": "markdown",
   "id": "black-september",
   "metadata": {},
   "source": [
    "### Annual Income"
   ]
  },
  {
   "cell_type": "code",
   "execution_count": 194,
   "id": "cross-france",
   "metadata": {},
   "outputs": [],
   "source": [
    "#np.round(loan2.agg({'annual_inc': ['min', 'mean', 'median','max']}))"
   ]
  },
  {
   "cell_type": "code",
   "execution_count": 195,
   "id": "received-legislature",
   "metadata": {},
   "outputs": [],
   "source": [
    "#plt.figure(figsize=(10,5))\n",
    "#plt.scatter(loan2['annual_inc'], loan2['funded_amnt'])\n",
    "#plt.title(\"Annual Income against Funded Amount\")\n",
    "#plt.ylabel('Loan Value')\n",
    "#plt.xlabel('Annual Income')\n",
    "#plt.show()"
   ]
  },
  {
   "cell_type": "code",
   "execution_count": 196,
   "id": "individual-immigration",
   "metadata": {},
   "outputs": [],
   "source": [
    "#calculate outliers\n",
    "#drop outliers\n",
    "# rerun chart\n",
    "#does annual income affect default"
   ]
  },
  {
   "cell_type": "code",
   "execution_count": 197,
   "id": "moved-pilot",
   "metadata": {},
   "outputs": [],
   "source": [
    "#calculate IQR\n",
    "#Q1 = loan2.annual_inc.quantile(.25)\n",
    "#Q3 = loan2.annual_inc.quantile(.75)\n",
    "#IQR = Q3 - Q1\n",
    "#IQR"
   ]
  },
  {
   "cell_type": "code",
   "execution_count": 198,
   "id": "impaired-norwegian",
   "metadata": {},
   "outputs": [
    {
     "data": {
      "image/png": "[encoded data removed]",
      "text/plain": [
       "<Figure size 648x360 with 1 Axes>"
      ]
     },
     "metadata": {
      "needs_background": "light"
     },
     "output_type": "display_data"
    }
   ],
   "source": [
    "loan2['annual_inc'].plot.box(figsize=(9,5));\n",
    "plt.title('The distribution of Annual Income using boxplot');"
   ]
  },
  {
   "cell_type": "code",
   "execution_count": 199,
   "id": "further-induction",
   "metadata": {},
   "outputs": [],
   "source": [
    "#funded Amount"
   ]
  },
  {
   "cell_type": "code",
   "execution_count": 200,
   "id": "medical-miami",
   "metadata": {},
   "outputs": [],
   "source": [
    "#employment length\n",
    "#clean str\n",
    "#look at distribution\n",
    "#longer employment means better rate"
   ]
  },
  {
   "cell_type": "code",
   "execution_count": 201,
   "id": "stretch-clerk",
   "metadata": {},
   "outputs": [],
   "source": [
    "#homeowners\n",
    "#dummify or map\n",
    "#how many own their home"
   ]
  },
  {
   "cell_type": "code",
   "execution_count": 202,
   "id": "relevant-category",
   "metadata": {},
   "outputs": [],
   "source": [
    "#grade"
   ]
  },
  {
   "cell_type": "code",
   "execution_count": 203,
   "id": "static-student",
   "metadata": {},
   "outputs": [],
   "source": [
    "#interest rate\n",
    "#based on purpose\n",
    "#interest increases with grade\n",
    "#loan amount and interest rate"
   ]
  },
  {
   "cell_type": "markdown",
   "id": "mechanical-cooler",
   "metadata": {},
   "source": [
    "### Default Rate and Grade"
   ]
  },
  {
   "cell_type": "markdown",
   "id": "mathematical-visibility",
   "metadata": {},
   "source": [
    "https://www.lendingclub.com/foliofn/rateDetail.action Lending Tree uses a formula for their loan grade system that takes in account not only credit score, but also a combination of several indicators of credit risk from the credit report application. All loans have either a 36-or-60 month term, with fixed interest rates and equal payments. A rate of \"A\" is the highest with a value of 7 and \"G\" the lowest with a value of 1."
   ]
  },
  {
   "cell_type": "code",
   "execution_count": 204,
   "id": "alien-jamaica",
   "metadata": {},
   "outputs": [
    {
     "data": {
      "text/plain": [
       "B    376874\n",
       "C    370020\n",
       "A    224495\n",
       "D    195019\n",
       "E     91402\n",
       "F     31330\n",
       "G      9040\n",
       "Name: grade, dtype: int64"
      ]
     },
     "execution_count": 204,
     "metadata": {},
     "output_type": "execute_result"
    }
   ],
   "source": [
    "loan2['grade'].value_counts()"
   ]
  },
  {
   "cell_type": "code",
   "execution_count": 205,
   "id": "organizational-bankruptcy",
   "metadata": {},
   "outputs": [],
   "source": [
    "loan2['grade1'] = loan2['grade'].replace({\"A\": 7,\n",
    "                                    \"B\": 6, \"C\": 5, \n",
    "                                    \"D\":4, \n",
    "                                    \"E\":3,\n",
    "                                    \"F\":2, \"G\": 1\n",
    "                                                      })"
   ]
  },
  {
   "cell_type": "code",
   "execution_count": 206,
   "id": "silver-mediterranean",
   "metadata": {},
   "outputs": [
    {
     "data": {
      "text/plain": [
       "6    376874\n",
       "5    370020\n",
       "7    224495\n",
       "4    195019\n",
       "3     91402\n",
       "2     31330\n",
       "1      9040\n",
       "Name: grade1, dtype: int64"
      ]
     },
     "execution_count": 206,
     "metadata": {},
     "output_type": "execute_result"
    }
   ],
   "source": [
    "loan2['grade1'].value_counts()"
   ]
  },
  {
   "cell_type": "code",
   "execution_count": null,
   "id": "declared-prefix",
   "metadata": {},
   "outputs": [],
   "source": []
  },
  {
   "cell_type": "code",
   "execution_count": null,
   "id": "standard-academy",
   "metadata": {},
   "outputs": [],
   "source": []
  },
  {
   "cell_type": "markdown",
   "id": "productive-cedar",
   "metadata": {},
   "source": [
    "### Interest Rate"
   ]
  },
  {
   "cell_type": "code",
   "execution_count": 207,
   "id": "ceramic-distribution",
   "metadata": {},
   "outputs": [
    {
     "data": {
      "image/png": "[encoded data removed]",
      "text/plain": [
       "<Figure size 432x288 with 1 Axes>"
      ]
     },
     "metadata": {
      "needs_background": "light"
     },
     "output_type": "display_data"
    }
   ],
   "source": [
    "interest_by_grade=loan2[['int_rate','grade']].groupby('grade').mean()\n",
    "plt.bar(x=interest_by_grade.index,height=interest_by_grade['int_rate'])\n",
    "plt.title('Interest Rate Vs. Grade');"
   ]
  },
  {
   "cell_type": "code",
   "execution_count": 208,
   "id": "harmful-mineral",
   "metadata": {},
   "outputs": [
    {
     "data": {
      "image/png": "[encoded data removed]",
      "text/plain": [
       "<Figure size 864x432 with 1 Axes>"
      ]
     },
     "metadata": {
      "needs_background": "light"
     },
     "output_type": "display_data"
    }
   ],
   "source": [
    "fig, ax = plt.subplots()\n",
    "fig.set_size_inches(12,6)\n",
    "sns.boxplot(x='int_rate',data=loan2,ax=ax);\n",
    "plt.title('Interest Rate');"
   ]
  },
  {
   "cell_type": "code",
   "execution_count": 209,
   "id": "exact-ready",
   "metadata": {},
   "outputs": [
    {
     "data": {
      "text/plain": [
       "0    13788\n",
       "1    13048\n",
       "Name: loan_status_1, dtype: int64"
      ]
     },
     "execution_count": 209,
     "metadata": {},
     "output_type": "execute_result"
    }
   ],
   "source": [
    "loan2[loan2['int_rate']>25]['loan_status_1'].value_counts()"
   ]
  },
  {
   "cell_type": "code",
   "execution_count": 210,
   "id": "binary-cycle",
   "metadata": {},
   "outputs": [
    {
     "data": {
      "image/png": "[encoded data removed]",
      "text/plain": [
       "<Figure size 360x360 with 1 Axes>"
      ]
     },
     "metadata": {
      "needs_background": "light"
     },
     "output_type": "display_data"
    }
   ],
   "source": [
    "sns.displot(loan2['int_rate']);\n",
    "plt.title('History of Interest Rate');"
   ]
  },
  {
   "cell_type": "markdown",
   "id": "medium-radius",
   "metadata": {},
   "source": [
    "**Interest rate is highly correlated with grade. Riskier the grade more is the interest rate.**"
   ]
  },
  {
   "cell_type": "markdown",
   "id": "processed-banking",
   "metadata": {},
   "source": [
    "#### Return on Investment (ROI)\n",
    "ROI = total_pymnt (amount returned by the borrower)/funded_amnt"
   ]
  },
  {
   "cell_type": "code",
   "execution_count": 211,
   "id": "inappropriate-supervision",
   "metadata": {},
   "outputs": [
    {
     "name": "stdout",
     "output_type": "stream",
     "text": [
      "ROI: 1.72\n"
     ]
    }
   ],
   "source": [
    "roi=loan2[['total_pymnt','funded_amnt','loan_status_1','grade']]\n",
    "roi1=(roi['total_pymnt'].sum()/roi['funded_amnt'].sum()-1)*100\n",
    "print(\"ROI:\",round(roi1,2))"
   ]
  },
  {
   "cell_type": "code",
   "execution_count": 212,
   "id": "mexican-organic",
   "metadata": {},
   "outputs": [
    {
     "data": {
      "text/plain": [
       "grade\n",
       "A    0.049057\n",
       "B    0.042620\n",
       "C    0.012619\n",
       "D   -0.010130\n",
       "E   -0.021343\n",
       "F   -0.043788\n",
       "G   -0.091537\n",
       "dtype: float64"
      ]
     },
     "execution_count": 212,
     "metadata": {},
     "output_type": "execute_result"
    }
   ],
   "source": [
    "roi2=roi.groupby('grade').sum()\n",
    "ROI_by_grade=roi2['total_pymnt']/roi2['funded_amnt'] -1\n",
    "ROI_by_grade"
   ]
  },
  {
   "cell_type": "code",
   "execution_count": 213,
   "id": "greater-gravity",
   "metadata": {},
   "outputs": [
    {
     "name": "stdout",
     "output_type": "stream",
     "text": [
      "ROI for fully paid loans: 16.52\n"
     ]
    }
   ],
   "source": [
    "roi=loan2[loan2['loan_status_1']==1][['total_pymnt','funded_amnt','loan_status','grade']]\n",
    "roi1=(roi['total_pymnt'].sum()/roi['funded_amnt'].sum()-1)*100\n",
    "print(\"ROI for fully paid loans:\",round(roi1,2))"
   ]
  },
  {
   "cell_type": "code",
   "execution_count": 214,
   "id": "surrounded-process",
   "metadata": {},
   "outputs": [
    {
     "data": {
      "text/plain": [
       "grade\n",
       "A    0.086432\n",
       "B    0.133985\n",
       "C    0.180411\n",
       "D    0.228138\n",
       "E    0.282030\n",
       "F    0.328994\n",
       "G    0.323334\n",
       "dtype: float64"
      ]
     },
     "execution_count": 214,
     "metadata": {},
     "output_type": "execute_result"
    }
   ],
   "source": [
    "roi2=roi.groupby('grade').sum()\n",
    "fully_paid_ROI_by_grade=roi2['total_pymnt']/roi2['funded_amnt'] -1\n",
    "fully_paid_ROI_by_grade"
   ]
  },
  {
   "cell_type": "markdown",
   "id": "hazardous-employee",
   "metadata": {},
   "source": [
    "#### Notes:\n",
    "Total ROI is in negative as we are considering defaulted records also. As defaulted records generally have higher loan amounts, it moves overall ROI to negative side.\n",
    "For riskier grades, overall ROI (incl. defaulted loans) decreases.\n",
    "If we consider fully paid loans, then ROI is more for riskier grades."
   ]
  },
  {
   "cell_type": "markdown",
   "id": "preceding-effect",
   "metadata": {},
   "source": [
    "### Employment History"
   ]
  },
  {
   "cell_type": "markdown",
   "id": "bearing-hepatitis",
   "metadata": {},
   "source": [
    "The length of employment feature was an object that contained strings, n/a, <, >, which were removed then it was convert to numeric."
   ]
  },
  {
   "cell_type": "code",
   "execution_count": 215,
   "id": "equivalent-jurisdiction",
   "metadata": {},
   "outputs": [],
   "source": [
    "def employment_length(text):\n",
    "    text = text.lower()\n",
    "    \n",
    "    if text == 'nan':\n",
    "        text = '0'\n",
    "    elif text == 'n/a':\n",
    "        text = '0'\n",
    "    elif text == '< 1 year':\n",
    "        text = '0.5'\n",
    "    elif text == '1 year':\n",
    "        text = '1'\n",
    "    elif text == '2 years':\n",
    "        text = '2'\n",
    "    elif text == '3 years':\n",
    "        text = '3'\n",
    "    elif text == '4 years':\n",
    "        text = '4'\n",
    "    elif text == '5 years':\n",
    "        text = '5'\n",
    "    elif text == '6 years':\n",
    "        text = '6'\n",
    "    elif text == '7 years':\n",
    "        text = '7'\n",
    "    elif text == '8 years':\n",
    "        text = '8'\n",
    "    elif text == '9 years':\n",
    "        text = '9'\n",
    "    elif text == '10+ years':\n",
    "        text = '10'\n",
    "            \n",
    "    return text"
   ]
  },
  {
   "cell_type": "code",
   "execution_count": 216,
   "id": "juvenile-liberty",
   "metadata": {},
   "outputs": [],
   "source": [
    "loan2['emp_length'] = loan2['emp_length'].astype('str')\n",
    "loan2['emp_length'] = [employment_length(i) for i  in loan2['emp_length']]\n",
    "loan2['emp_length'] = loan2['emp_length'].astype('float')"
   ]
  },
  {
   "cell_type": "code",
   "execution_count": 217,
   "id": "stuffed-arthur",
   "metadata": {},
   "outputs": [
    {
     "data": {
      "text/plain": [
       "0    10.0\n",
       "1    10.0\n",
       "2    10.0\n",
       "4     3.0\n",
       "5     4.0\n",
       "Name: emp_length, dtype: float64"
      ]
     },
     "execution_count": 217,
     "metadata": {},
     "output_type": "execute_result"
    }
   ],
   "source": [
    "loan2['emp_length'].head()"
   ]
  },
  {
   "cell_type": "code",
   "execution_count": 218,
   "id": "noble-outreach",
   "metadata": {},
   "outputs": [
    {
     "data": {
      "image/png": "[encoded data removed]",
      "text/plain": [
       "<Figure size 432x288 with 1 Axes>"
      ]
     },
     "metadata": {
      "needs_background": "light"
     },
     "output_type": "display_data"
    }
   ],
   "source": [
    "plt.hist(loan2['emp_length'], bins=5);\n",
    "plt.title('Length of Employment for Borrowers');"
   ]
  },
  {
   "cell_type": "markdown",
   "id": "afraid-secretary",
   "metadata": {},
   "source": [
    "### Funded Amount"
   ]
  },
  {
   "cell_type": "code",
   "execution_count": 219,
   "id": "remarkable-musical",
   "metadata": {},
   "outputs": [
    {
     "data": {
      "text/plain": [
       "count    1.298180e+06\n",
       "mean     1.466286e+04\n",
       "std      8.779954e+03\n",
       "min      5.000000e+02\n",
       "25%      8.000000e+03\n",
       "50%      1.232500e+04\n",
       "75%      2.000000e+04\n",
       "max      4.000000e+04\n",
       "Name: funded_amnt, dtype: float64"
      ]
     },
     "execution_count": 219,
     "metadata": {},
     "output_type": "execute_result"
    }
   ],
   "source": [
    "loan2['funded_amnt'].describe()"
   ]
  },
  {
   "cell_type": "markdown",
   "id": "cubic-check",
   "metadata": {},
   "source": [
    "**The minimum amount of a funded amount issued to a borrower was 500 and the maximum was 40k.**"
   ]
  },
  {
   "cell_type": "code",
   "execution_count": 220,
   "id": "fatty-danger",
   "metadata": {},
   "outputs": [
    {
     "data": {
      "text/html": [
       "<div>\n",
       "<style scoped>\n",
       "    .dataframe tbody tr th:only-of-type {\n",
       "        vertical-align: middle;\n",
       "    }\n",
       "\n",
       "    .dataframe tbody tr th {\n",
       "        vertical-align: top;\n",
       "    }\n",
       "\n",
       "    .dataframe thead th {\n",
       "        text-align: right;\n",
       "    }\n",
       "</style>\n",
       "<table border=\"1\" class=\"dataframe\">\n",
       "  <thead>\n",
       "    <tr style=\"text-align: right;\">\n",
       "      <th></th>\n",
       "      <th>count</th>\n",
       "      <th>mean</th>\n",
       "      <th>std</th>\n",
       "      <th>min</th>\n",
       "      <th>25%</th>\n",
       "      <th>50%</th>\n",
       "      <th>75%</th>\n",
       "      <th>max</th>\n",
       "    </tr>\n",
       "    <tr>\n",
       "      <th>loan_status_1</th>\n",
       "      <th></th>\n",
       "      <th></th>\n",
       "      <th></th>\n",
       "      <th></th>\n",
       "      <th></th>\n",
       "      <th></th>\n",
       "      <th></th>\n",
       "      <th></th>\n",
       "    </tr>\n",
       "  </thead>\n",
       "  <tbody>\n",
       "    <tr>\n",
       "      <th>0</th>\n",
       "      <td>278825.0</td>\n",
       "      <td>16050.919304</td>\n",
       "      <td>8952.431438</td>\n",
       "      <td>900.0</td>\n",
       "      <td>9600.0</td>\n",
       "      <td>15000.0</td>\n",
       "      <td>21000.0</td>\n",
       "      <td>40000.0</td>\n",
       "    </tr>\n",
       "    <tr>\n",
       "      <th>1</th>\n",
       "      <td>1019355.0</td>\n",
       "      <td>14283.180810</td>\n",
       "      <td>8693.671615</td>\n",
       "      <td>500.0</td>\n",
       "      <td>7675.0</td>\n",
       "      <td>12000.0</td>\n",
       "      <td>20000.0</td>\n",
       "      <td>40000.0</td>\n",
       "    </tr>\n",
       "  </tbody>\n",
       "</table>\n",
       "</div>"
      ],
      "text/plain": [
       "                   count          mean          std    min     25%      50%  \\\n",
       "loan_status_1                                                                 \n",
       "0               278825.0  16050.919304  8952.431438  900.0  9600.0  15000.0   \n",
       "1              1019355.0  14283.180810  8693.671615  500.0  7675.0  12000.0   \n",
       "\n",
       "                   75%      max  \n",
       "loan_status_1                    \n",
       "0              21000.0  40000.0  \n",
       "1              20000.0  40000.0  "
      ]
     },
     "execution_count": 220,
     "metadata": {},
     "output_type": "execute_result"
    }
   ],
   "source": [
    "loan2.groupby(by='loan_status_1')['funded_amnt'].describe()    "
   ]
  },
  {
   "cell_type": "code",
   "execution_count": 221,
   "id": "seeing-nepal",
   "metadata": {},
   "outputs": [
    {
     "data": {
      "image/png": "[encoded data removed]",
      "text/plain": [
       "<Figure size 720x360 with 1 Axes>"
      ]
     },
     "metadata": {
      "needs_background": "light"
     },
     "output_type": "display_data"
    }
   ],
   "source": [
    "plt.figure(figsize=(10,5))\n",
    "plt.hist(loan2['funded_amnt']);\n",
    "plt.xlabel('Loan value');\n",
    "plt.ylabel('The count of number of borrowers')\n",
    "plt.title('The number of loans with income < $175,000');"
   ]
  },
  {
   "cell_type": "markdown",
   "id": "personal-shoulder",
   "metadata": {},
   "source": [
    "### Annual Income"
   ]
  },
  {
   "cell_type": "code",
   "execution_count": 222,
   "id": "meaning-samba",
   "metadata": {},
   "outputs": [
    {
     "data": {
      "text/html": [
       "<div>\n",
       "<style scoped>\n",
       "    .dataframe tbody tr th:only-of-type {\n",
       "        vertical-align: middle;\n",
       "    }\n",
       "\n",
       "    .dataframe tbody tr th {\n",
       "        vertical-align: top;\n",
       "    }\n",
       "\n",
       "    .dataframe thead th {\n",
       "        text-align: right;\n",
       "    }\n",
       "</style>\n",
       "<table border=\"1\" class=\"dataframe\">\n",
       "  <thead>\n",
       "    <tr style=\"text-align: right;\">\n",
       "      <th></th>\n",
       "      <th>annual_inc</th>\n",
       "    </tr>\n",
       "  </thead>\n",
       "  <tbody>\n",
       "    <tr>\n",
       "      <th>min</th>\n",
       "      <td>32.0</td>\n",
       "    </tr>\n",
       "    <tr>\n",
       "      <th>mean</th>\n",
       "      <td>77977.0</td>\n",
       "    </tr>\n",
       "    <tr>\n",
       "      <th>median</th>\n",
       "      <td>65000.0</td>\n",
       "    </tr>\n",
       "    <tr>\n",
       "      <th>max</th>\n",
       "      <td>10999200.0</td>\n",
       "    </tr>\n",
       "  </tbody>\n",
       "</table>\n",
       "</div>"
      ],
      "text/plain": [
       "        annual_inc\n",
       "min           32.0\n",
       "mean       77977.0\n",
       "median     65000.0\n",
       "max     10999200.0"
      ]
     },
     "execution_count": 222,
     "metadata": {},
     "output_type": "execute_result"
    }
   ],
   "source": [
    "np.round(loan2.agg({'annual_inc': ['min', 'mean', 'median','max']}))"
   ]
  },
  {
   "cell_type": "code",
   "execution_count": 223,
   "id": "hourly-concern",
   "metadata": {},
   "outputs": [
    {
     "data": {
      "image/png": "[encoded data removed]",
      "text/plain": [
       "<Figure size 720x360 with 1 Axes>"
      ]
     },
     "metadata": {
      "needs_background": "light"
     },
     "output_type": "display_data"
    }
   ],
   "source": [
    "plt.figure(figsize=(10,5))\n",
    "plt.scatter(loan2['annual_inc'], loan2['funded_amnt'])\n",
    "plt.title(\"Annual Income against Funded Amount\")\n",
    "plt.ylabel('Loan Value')\n",
    "plt.xlabel('Annual Income')\n",
    "plt.show()"
   ]
  },
  {
   "cell_type": "code",
   "execution_count": 224,
   "id": "breathing-tsunami",
   "metadata": {},
   "outputs": [],
   "source": [
    "## calculate outliers"
   ]
  },
  {
   "cell_type": "code",
   "execution_count": 225,
   "id": "insured-iraqi",
   "metadata": {},
   "outputs": [],
   "source": [
    "loan2.drop(loan2[loan2['annual_inc'] >200000].index, inplace = True)"
   ]
  },
  {
   "cell_type": "code",
   "execution_count": 226,
   "id": "binding-committee",
   "metadata": {},
   "outputs": [
    {
     "data": {
      "image/png": "[encoded data removed]",
      "text/plain": [
       "<Figure size 720x360 with 1 Axes>"
      ]
     },
     "metadata": {
      "needs_background": "light"
     },
     "output_type": "display_data"
    }
   ],
   "source": [
    "plt.figure(figsize=(10,5))\n",
    "plt.hist(loan2['annual_inc']);\n",
    "plt.xlabel('Annual Income');\n",
    "plt.ylabel('The count of number of borrowers')\n",
    "plt.title('The distribution of Annual Income of the borrowers');"
   ]
  },
  {
   "cell_type": "code",
   "execution_count": 227,
   "id": "developmental-dispute",
   "metadata": {},
   "outputs": [
    {
     "data": {
      "image/png": "[encoded data removed]",
      "text/plain": [
       "<Figure size 648x360 with 1 Axes>"
      ]
     },
     "metadata": {
      "needs_background": "light"
     },
     "output_type": "display_data"
    }
   ],
   "source": [
    "loan2['annual_inc'].plot.box(figsize=(9,5));\n",
    "plt.title('The distribution of Annual Income using boxplot');"
   ]
  },
  {
   "cell_type": "code",
   "execution_count": 228,
   "id": "fossil-boost",
   "metadata": {},
   "outputs": [
    {
     "data": {
      "text/plain": [
       "count    1.269668e+06\n",
       "mean     7.255795e+04\n",
       "std      3.500654e+04\n",
       "min      3.200000e+01\n",
       "25%      4.700000e+04\n",
       "50%      6.500000e+04\n",
       "75%      9.000000e+04\n",
       "max      2.000000e+05\n",
       "Name: annual_inc, dtype: float64"
      ]
     },
     "execution_count": 228,
     "metadata": {},
     "output_type": "execute_result"
    }
   ],
   "source": [
    "loan2['annual_inc'].describe()"
   ]
  },
  {
   "cell_type": "code",
   "execution_count": 229,
   "id": "cubic-schema",
   "metadata": {},
   "outputs": [
    {
     "data": {
      "text/plain": [
       "(1269668, 20)"
      ]
     },
     "execution_count": 229,
     "metadata": {},
     "output_type": "execute_result"
    }
   ],
   "source": [
    "loan2.shape"
   ]
  },
  {
   "cell_type": "markdown",
   "id": "honey-giving",
   "metadata": {},
   "source": [
    "#### Notes - histogram, scatterplot\n",
    "- The scatter plot was done using all of the data.  A large number of borrowers income were less 200,000 annual\n",
    "- Removed all income greater than 200,000 annually.  The histogram displays more distributed and skewed left chart.\n",
    "- The box plot displays mean income at 65,000"
   ]
  },
  {
   "cell_type": "markdown",
   "id": "loose-recording",
   "metadata": {},
   "source": [
    "### Term"
   ]
  },
  {
   "cell_type": "code",
   "execution_count": 230,
   "id": "advised-volunteer",
   "metadata": {},
   "outputs": [
    {
     "data": {
      "text/plain": [
       "term\n",
       " 36 months    0.829242\n",
       " 60 months    0.649131\n",
       "Name: loan_status_1, dtype: float64"
      ]
     },
     "execution_count": 230,
     "metadata": {},
     "output_type": "execute_result"
    }
   ],
   "source": [
    "#distribution of loan by terms, loan status\n",
    "loan2.groupby('term')['loan_status_1'].mean()"
   ]
  },
  {
   "cell_type": "markdown",
   "id": "blank-capability",
   "metadata": {},
   "source": [
    "### Home Ownership"
   ]
  },
  {
   "cell_type": "code",
   "execution_count": 231,
   "id": "retained-venezuela",
   "metadata": {},
   "outputs": [
    {
     "data": {
      "text/plain": [
       "MORTGAGE    624112\n",
       "RENT        515471\n",
       "OWN         129622\n",
       "ANY            279\n",
       "OTHER          138\n",
       "NONE            46\n",
       "Name: home_ownership, dtype: int64"
      ]
     },
     "execution_count": 231,
     "metadata": {},
     "output_type": "execute_result"
    }
   ],
   "source": [
    "loan2['home_ownership'].value_counts()"
   ]
  },
  {
   "cell_type": "code",
   "execution_count": 232,
   "id": "homeless-heath",
   "metadata": {},
   "outputs": [
    {
     "data": {
      "image/png": "[encoded data removed]",
      "text/plain": [
       "<Figure size 432x288 with 1 Axes>"
      ]
     },
     "metadata": {
      "needs_background": "light"
     },
     "output_type": "display_data"
    }
   ],
   "source": [
    "sns.countplot(x='home_ownership',hue='loan_status_1',data=loan2);"
   ]
  },
  {
   "cell_type": "code",
   "execution_count": 233,
   "id": "close-uniform",
   "metadata": {},
   "outputs": [],
   "source": [
    "#change OHTER, NONE, ANY to RENT as these data points are too low.\n",
    "loan2['home_ownership']=loan2['home_ownership'].apply(lambda x: 'RENT' if x in ['OTHER','NONE','ANY'] else x)"
   ]
  },
  {
   "cell_type": "code",
   "execution_count": 234,
   "id": "latest-bradley",
   "metadata": {},
   "outputs": [
    {
     "data": {
      "text/plain": [
       "MORTGAGE    624112\n",
       "RENT        515934\n",
       "OWN         129622\n",
       "Name: home_ownership, dtype: int64"
      ]
     },
     "execution_count": 234,
     "metadata": {},
     "output_type": "execute_result"
    }
   ],
   "source": [
    "loan2['home_ownership'].value_counts()"
   ]
  },
  {
   "cell_type": "markdown",
   "id": "powered-norfolk",
   "metadata": {},
   "source": [
    "### Purpose"
   ]
  },
  {
   "cell_type": "code",
   "execution_count": 235,
   "id": "automotive-least",
   "metadata": {},
   "outputs": [
    {
     "data": {
      "text/plain": [
       "debt_consolidation    741753\n",
       "credit_card           277192\n",
       "home_improvement       79393\n",
       "other                  72878\n",
       "major_purchase         27879\n",
       "small_business         14731\n",
       "medical                14353\n",
       "car                    13828\n",
       "moving                  8951\n",
       "vacation                8476\n",
       "house                   6807\n",
       "wedding                 2229\n",
       "renewable_energy         882\n",
       "educational              316\n",
       "Name: purpose, dtype: int64"
      ]
     },
     "execution_count": 235,
     "metadata": {},
     "output_type": "execute_result"
    }
   ],
   "source": [
    "loan2['purpose'].value_counts()"
   ]
  },
  {
   "cell_type": "code",
   "execution_count": 236,
   "id": "oriented-diversity",
   "metadata": {},
   "outputs": [],
   "source": [
    "# calculate % of purpose"
   ]
  },
  {
   "cell_type": "markdown",
   "id": "complicated-biology",
   "metadata": {},
   "source": [
    "### State Address"
   ]
  },
  {
   "cell_type": "code",
   "execution_count": 237,
   "id": "genetic-engineer",
   "metadata": {},
   "outputs": [
    {
     "data": {
      "text/plain": [
       "CA    185397\n",
       "TX    104995\n",
       "NY    103526\n",
       "FL     88922\n",
       "IL     48937\n",
       "NJ     45655\n",
       "PA     43251\n",
       "OH     41297\n",
       "GA     40856\n",
       "VA     36256\n",
       "NC     35347\n",
       "MI     32399\n",
       "AZ     30334\n",
       "MD     30065\n",
       "MA     29685\n",
       "CO     28254\n",
       "WA     27556\n",
       "MN     23138\n",
       "IN     20621\n",
       "MO     20087\n",
       "TN     19191\n",
       "NV     18617\n",
       "CT     18582\n",
       "WI     16890\n",
       "AL     15606\n",
       "OR     15295\n",
       "SC     14828\n",
       "LA     14807\n",
       "KY     12042\n",
       "OK     11643\n",
       "KS     10682\n",
       "UT      9563\n",
       "AR      9296\n",
       "NM      6832\n",
       "HI      6553\n",
       "MS      6233\n",
       "NH      6121\n",
       "RI      5612\n",
       "WV      4491\n",
       "MT      3634\n",
       "DE      3531\n",
       "NE      3498\n",
       "DC      3320\n",
       "AK      3099\n",
       "WY      2834\n",
       "SD      2675\n",
       "VT      2545\n",
       "ME      1888\n",
       "ND      1595\n",
       "ID      1580\n",
       "IA         7\n",
       "Name: addr_state, dtype: int64"
      ]
     },
     "execution_count": 237,
     "metadata": {},
     "output_type": "execute_result"
    }
   ],
   "source": [
    "loan2['addr_state'].value_counts()"
   ]
  },
  {
   "cell_type": "markdown",
   "id": "lesbian-reminder",
   "metadata": {},
   "source": [
    "### dti"
   ]
  },
  {
   "cell_type": "code",
   "execution_count": 238,
   "id": "universal-blade",
   "metadata": {},
   "outputs": [
    {
     "data": {
      "image/png": "[encoded data removed]",
      "text/plain": [
       "<Figure size 648x432 with 1 Axes>"
      ]
     },
     "metadata": {
      "needs_background": "light"
     },
     "output_type": "display_data"
    }
   ],
   "source": [
    "fig, ax = plt.subplots()\n",
    "fig.set_size_inches(9,6)\n",
    "sns.boxplot(x='dti',data=loan2,ax=ax);"
   ]
  },
  {
   "cell_type": "code",
   "execution_count": null,
   "id": "resident-assumption",
   "metadata": {},
   "outputs": [],
   "source": [
    "sns.displot(loan2['dti']);"
   ]
  },
  {
   "cell_type": "code",
   "execution_count": null,
   "id": "finnish-beast",
   "metadata": {},
   "outputs": [],
   "source": [
    "#d_issuse - year that the loans are issued\n",
    "#break apart by year - groupby year"
   ]
  },
  {
   "cell_type": "markdown",
   "id": "historical-concentrate",
   "metadata": {},
   "source": [
    "## Correlation"
   ]
  },
  {
   "cell_type": "markdown",
   "id": "engaging-grass",
   "metadata": {},
   "source": [
    "**A correlation coefficient tells us if there are any dependencies between the independent variables**"
   ]
  },
  {
   "cell_type": "code",
   "execution_count": null,
   "id": "abandoned-forth",
   "metadata": {},
   "outputs": [],
   "source": [
    "plt.figure(figsize=(10,10))\n",
    "sns.heatmap(loan2.corr(), cmap='Blues',\n",
    "           annot=True);\n",
    "plt.title('Correlaation coefficient of numerical features');"
   ]
  },
  {
   "cell_type": "code",
   "execution_count": null,
   "id": "exciting-superior",
   "metadata": {},
   "outputs": [],
   "source": [
    "# balance the y - not sure if to do - maybe do with and without\n",
    "#use code from project 5 models\n",
    "#code the best - gs\n",
    "#confusion matrix"
   ]
  }
 ],
 "metadata": {
  "kernelspec": {
   "display_name": "Python 3",
   "language": "python",
   "name": "python3"
  },
  "language_info": {
   "codemirror_mode": {
    "name": "ipython",
    "version": 3
   },
   "file_extension": ".py",
   "mimetype": "text/x-python",
   "name": "python",
   "nbconvert_exporter": "python",
   "pygments_lexer": "ipython3",
   "version": "3.8.5"
  },
  "toc": {
   "base_numbering": 1,
   "nav_menu": {},
   "number_sections": true,
   "sideBar": true,
   "skip_h1_title": false,
   "title_cell": "Table of Contents",
   "title_sidebar": "Contents",
   "toc_cell": true,
   "toc_position": {},
   "toc_section_display": true,
   "toc_window_display": false
  }
 },
 "nbformat": 4,
 "nbformat_minor": 5
}
