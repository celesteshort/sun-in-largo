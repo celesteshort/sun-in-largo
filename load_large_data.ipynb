{
 "cells": [
  {
   "cell_type": "markdown",
   "id": "embedded-triumph",
   "metadata": {
    "toc": true
   },
   "source": [
    "<h1>Table of Contents<span class=\"tocSkip\"></span></h1>\n",
    "<div class=\"toc\"><ul class=\"toc-item\"></ul></div>"
   ]
  },
  {
   "cell_type": "markdown",
   "id": "universal-class",
   "metadata": {},
   "source": [
    "Source of the data:\n",
    "https://data.world/lpetrocelli/lendingclub-loan-data-2017-q-1/workspace/project-summary?agentid=lpetrocelli&datasetid=lendingclub-loan-data-2017-q-1\n",
    "\n",
    "Source:\n",
    "https://www.lendingclub.com/info/download-data.action"
   ]
  },
  {
   "cell_type": "markdown",
   "id": "plastic-grave",
   "metadata": {},
   "source": [
    "LendingClub is a peer-to-peer lending company with its headquarters in San Francisco, California, began by operating as an online consumer-lending platform that enables borrowers to obtain a loan that's funded by individuals and insititutions.  They issue loans for personal - debt consolidation, medical bills or home improvement.   \n",
    "\n",
    "When a borrower applies for a loan, LendingClub looking at the person's income, credit history, employment.  There are two types of decisions to be paid by LC - accept the loan or reject the loan.  In accepting the loan, there is a chance that the borrower will repay the loan or it it will charged off.  \n"
   ]
  },
  {
   "cell_type": "markdown",
   "id": "facial-lounge",
   "metadata": {},
   "source": [
    "Problem Statement:\n",
    "The goal is to understand what factors affect a loan in default.  Using some of the features in the dataset, we will determine if someone will pay or default on their loan."
   ]
  },
  {
   "cell_type": "code",
   "execution_count": 13,
   "id": "surprising-tactics",
   "metadata": {},
   "outputs": [],
   "source": [
    "import numpy as np\n",
    "import pandas as pd\n",
    "from nltk.corpus import stopwords\n",
    "import re\n",
    "import matplotlib.pyplot as plt\n",
    "import seaborn as sns\n",
    "\n",
    "%matplotlib inline"
   ]
  },
  {
   "cell_type": "code",
   "execution_count": 14,
   "id": "civilian-income",
   "metadata": {},
   "outputs": [],
   "source": [
    "loan = pd.read_csv('./LoanStats/accepted_2007_to_2018Q4.csv', low_memory=False)\n"
   ]
  },
  {
   "cell_type": "code",
   "execution_count": 16,
   "id": "revised-recommendation",
   "metadata": {},
   "outputs": [],
   "source": [
    "x = loan[['funded_amnt', 'emp_length', 'annual_inc', 'loan_status', \n",
    "         'loan_amnt', 'home_ownership', 'int_rate','addr_state', 'grade', \n",
    "          'term', 'installment', 'sub_grade', 'total_pymnt','issue_d', \n",
    "          'funded_amnt_inv','purpose', 'dti', 'zip_code']]\n",
    "loan2 = x.copy()"
   ]
  },
  {
   "cell_type": "code",
   "execution_count": 17,
   "id": "agreed-variable",
   "metadata": {},
   "outputs": [],
   "source": [
    "# Release the memory of loan since we don't need it anymore\n",
    "del loan"
   ]
  },
  {
   "cell_type": "code",
   "execution_count": 18,
   "id": "thick-hampton",
   "metadata": {},
   "outputs": [
    {
     "name": "stdout",
     "output_type": "stream",
     "text": [
      "<class 'pandas.core.frame.DataFrame'>\n",
      "RangeIndex: 2260701 entries, 0 to 2260700\n",
      "Data columns (total 18 columns):\n",
      " #   Column           Dtype  \n",
      "---  ------           -----  \n",
      " 0   funded_amnt      float64\n",
      " 1   emp_length       object \n",
      " 2   annual_inc       float64\n",
      " 3   loan_status      object \n",
      " 4   loan_amnt        float64\n",
      " 5   home_ownership   object \n",
      " 6   int_rate         float64\n",
      " 7   addr_state       object \n",
      " 8   grade            object \n",
      " 9   term             object \n",
      " 10  installment      float64\n",
      " 11  sub_grade        object \n",
      " 12  total_pymnt      float64\n",
      " 13  issue_d          object \n",
      " 14  funded_amnt_inv  float64\n",
      " 15  purpose          object \n",
      " 16  dti              float64\n",
      " 17  zip_code         object \n",
      "dtypes: float64(8), object(10)\n",
      "memory usage: 310.5+ MB\n"
     ]
    }
   ],
   "source": [
    "loan2.info()"
   ]
  },
  {
   "cell_type": "code",
   "execution_count": 19,
   "id": "heated-nothing",
   "metadata": {},
   "outputs": [],
   "source": [
    "loan2.to_csv('./LoanStats/loans_with_date.csv')"
   ]
  },
  {
   "cell_type": "code",
   "execution_count": 20,
   "id": "unique-glenn",
   "metadata": {},
   "outputs": [
    {
     "data": {
      "text/plain": [
       "(2260701, 18)"
      ]
     },
     "execution_count": 20,
     "metadata": {},
     "output_type": "execute_result"
    }
   ],
   "source": [
    "loan2.shape"
   ]
  },
  {
   "cell_type": "code",
   "execution_count": null,
   "id": "inclusive-elephant",
   "metadata": {},
   "outputs": [],
   "source": []
  },
  {
   "cell_type": "code",
   "execution_count": null,
   "id": "excited-jackson",
   "metadata": {},
   "outputs": [],
   "source": []
  },
  {
   "cell_type": "code",
   "execution_count": null,
   "id": "suspected-barbados",
   "metadata": {},
   "outputs": [],
   "source": []
  },
  {
   "cell_type": "code",
   "execution_count": null,
   "id": "smart-institution",
   "metadata": {},
   "outputs": [],
   "source": []
  },
  {
   "cell_type": "code",
   "execution_count": 19,
   "id": "handy-administration",
   "metadata": {
    "collapsed": true
   },
   "outputs": [
    {
     "data": {
      "text/plain": [
       "funded_amnt           33\n",
       "emp_length        146940\n",
       "annual_inc            37\n",
       "loan_status           33\n",
       "home_ownership        33\n",
       "int_rate              33\n",
       "addr_state            33\n",
       "grade                 33\n",
       "issue_d               33\n",
       "purpose               33\n",
       "dti                 1744\n",
       "term                  33\n",
       "zip_code              34\n",
       "dtype: int64"
      ]
     },
     "execution_count": 19,
     "metadata": {},
     "output_type": "execute_result"
    }
   ],
   "source": [
    "loan2.isnull().sum()"
   ]
  },
  {
   "cell_type": "code",
   "execution_count": 18,
   "id": "adapted-value",
   "metadata": {
    "collapsed": true
   },
   "outputs": [
    {
     "data": {
      "text/html": [
       "<div>\n",
       "<style scoped>\n",
       "    .dataframe tbody tr th:only-of-type {\n",
       "        vertical-align: middle;\n",
       "    }\n",
       "\n",
       "    .dataframe tbody tr th {\n",
       "        vertical-align: top;\n",
       "    }\n",
       "\n",
       "    .dataframe thead th {\n",
       "        text-align: right;\n",
       "    }\n",
       "</style>\n",
       "<table border=\"1\" class=\"dataframe\">\n",
       "  <thead>\n",
       "    <tr style=\"text-align: right;\">\n",
       "      <th></th>\n",
       "      <th>funded_amnt</th>\n",
       "      <th>emp_length</th>\n",
       "      <th>annual_inc</th>\n",
       "      <th>loan_status</th>\n",
       "      <th>home_ownership</th>\n",
       "      <th>int_rate</th>\n",
       "      <th>addr_state</th>\n",
       "      <th>grade</th>\n",
       "      <th>issue_d</th>\n",
       "      <th>purpose</th>\n",
       "      <th>dti</th>\n",
       "      <th>term</th>\n",
       "      <th>zip_code</th>\n",
       "    </tr>\n",
       "  </thead>\n",
       "  <tbody>\n",
       "    <tr>\n",
       "      <th>0</th>\n",
       "      <td>3600.0</td>\n",
       "      <td>10+ years</td>\n",
       "      <td>55000.0</td>\n",
       "      <td>Fully Paid</td>\n",
       "      <td>MORTGAGE</td>\n",
       "      <td>13.99</td>\n",
       "      <td>PA</td>\n",
       "      <td>C</td>\n",
       "      <td>Dec-2015</td>\n",
       "      <td>debt_consolidation</td>\n",
       "      <td>5.91</td>\n",
       "      <td>36 months</td>\n",
       "      <td>190xx</td>\n",
       "    </tr>\n",
       "    <tr>\n",
       "      <th>1</th>\n",
       "      <td>24700.0</td>\n",
       "      <td>10+ years</td>\n",
       "      <td>65000.0</td>\n",
       "      <td>Fully Paid</td>\n",
       "      <td>MORTGAGE</td>\n",
       "      <td>11.99</td>\n",
       "      <td>SD</td>\n",
       "      <td>C</td>\n",
       "      <td>Dec-2015</td>\n",
       "      <td>small_business</td>\n",
       "      <td>16.06</td>\n",
       "      <td>36 months</td>\n",
       "      <td>577xx</td>\n",
       "    </tr>\n",
       "    <tr>\n",
       "      <th>2</th>\n",
       "      <td>20000.0</td>\n",
       "      <td>10+ years</td>\n",
       "      <td>63000.0</td>\n",
       "      <td>Fully Paid</td>\n",
       "      <td>MORTGAGE</td>\n",
       "      <td>10.78</td>\n",
       "      <td>IL</td>\n",
       "      <td>B</td>\n",
       "      <td>Dec-2015</td>\n",
       "      <td>home_improvement</td>\n",
       "      <td>10.78</td>\n",
       "      <td>60 months</td>\n",
       "      <td>605xx</td>\n",
       "    </tr>\n",
       "    <tr>\n",
       "      <th>3</th>\n",
       "      <td>35000.0</td>\n",
       "      <td>10+ years</td>\n",
       "      <td>110000.0</td>\n",
       "      <td>Current</td>\n",
       "      <td>MORTGAGE</td>\n",
       "      <td>14.85</td>\n",
       "      <td>NJ</td>\n",
       "      <td>C</td>\n",
       "      <td>Dec-2015</td>\n",
       "      <td>debt_consolidation</td>\n",
       "      <td>17.06</td>\n",
       "      <td>60 months</td>\n",
       "      <td>076xx</td>\n",
       "    </tr>\n",
       "    <tr>\n",
       "      <th>4</th>\n",
       "      <td>10400.0</td>\n",
       "      <td>3 years</td>\n",
       "      <td>104433.0</td>\n",
       "      <td>Fully Paid</td>\n",
       "      <td>MORTGAGE</td>\n",
       "      <td>22.45</td>\n",
       "      <td>PA</td>\n",
       "      <td>F</td>\n",
       "      <td>Dec-2015</td>\n",
       "      <td>major_purchase</td>\n",
       "      <td>25.37</td>\n",
       "      <td>60 months</td>\n",
       "      <td>174xx</td>\n",
       "    </tr>\n",
       "    <tr>\n",
       "      <th>...</th>\n",
       "      <td>...</td>\n",
       "      <td>...</td>\n",
       "      <td>...</td>\n",
       "      <td>...</td>\n",
       "      <td>...</td>\n",
       "      <td>...</td>\n",
       "      <td>...</td>\n",
       "      <td>...</td>\n",
       "      <td>...</td>\n",
       "      <td>...</td>\n",
       "      <td>...</td>\n",
       "      <td>...</td>\n",
       "      <td>...</td>\n",
       "    </tr>\n",
       "    <tr>\n",
       "      <th>2260694</th>\n",
       "      <td>24000.0</td>\n",
       "      <td>7 years</td>\n",
       "      <td>95000.0</td>\n",
       "      <td>Current</td>\n",
       "      <td>MORTGAGE</td>\n",
       "      <td>12.79</td>\n",
       "      <td>AL</td>\n",
       "      <td>C</td>\n",
       "      <td>Oct-2016</td>\n",
       "      <td>home_improvement</td>\n",
       "      <td>19.61</td>\n",
       "      <td>60 months</td>\n",
       "      <td>356xx</td>\n",
       "    </tr>\n",
       "    <tr>\n",
       "      <th>2260695</th>\n",
       "      <td>24000.0</td>\n",
       "      <td>10+ years</td>\n",
       "      <td>108000.0</td>\n",
       "      <td>Current</td>\n",
       "      <td>MORTGAGE</td>\n",
       "      <td>10.49</td>\n",
       "      <td>UT</td>\n",
       "      <td>B</td>\n",
       "      <td>Oct-2016</td>\n",
       "      <td>debt_consolidation</td>\n",
       "      <td>34.94</td>\n",
       "      <td>60 months</td>\n",
       "      <td>840xx</td>\n",
       "    </tr>\n",
       "    <tr>\n",
       "      <th>2260696</th>\n",
       "      <td>40000.0</td>\n",
       "      <td>9 years</td>\n",
       "      <td>227000.0</td>\n",
       "      <td>Current</td>\n",
       "      <td>MORTGAGE</td>\n",
       "      <td>10.49</td>\n",
       "      <td>CA</td>\n",
       "      <td>B</td>\n",
       "      <td>Oct-2016</td>\n",
       "      <td>debt_consolidation</td>\n",
       "      <td>12.75</td>\n",
       "      <td>60 months</td>\n",
       "      <td>907xx</td>\n",
       "    </tr>\n",
       "    <tr>\n",
       "      <th>2260697</th>\n",
       "      <td>24000.0</td>\n",
       "      <td>6 years</td>\n",
       "      <td>110000.0</td>\n",
       "      <td>Charged Off</td>\n",
       "      <td>RENT</td>\n",
       "      <td>14.49</td>\n",
       "      <td>FL</td>\n",
       "      <td>C</td>\n",
       "      <td>Oct-2016</td>\n",
       "      <td>debt_consolidation</td>\n",
       "      <td>18.30</td>\n",
       "      <td>60 months</td>\n",
       "      <td>334xx</td>\n",
       "    </tr>\n",
       "    <tr>\n",
       "      <th>2260698</th>\n",
       "      <td>14000.0</td>\n",
       "      <td>10+ years</td>\n",
       "      <td>95000.0</td>\n",
       "      <td>Current</td>\n",
       "      <td>MORTGAGE</td>\n",
       "      <td>14.49</td>\n",
       "      <td>TX</td>\n",
       "      <td>C</td>\n",
       "      <td>Oct-2016</td>\n",
       "      <td>debt_consolidation</td>\n",
       "      <td>23.36</td>\n",
       "      <td>60 months</td>\n",
       "      <td>770xx</td>\n",
       "    </tr>\n",
       "  </tbody>\n",
       "</table>\n",
       "<p>2113643 rows × 13 columns</p>\n",
       "</div>"
      ],
      "text/plain": [
       "         funded_amnt emp_length  annual_inc  loan_status home_ownership  \\\n",
       "0             3600.0  10+ years     55000.0   Fully Paid       MORTGAGE   \n",
       "1            24700.0  10+ years     65000.0   Fully Paid       MORTGAGE   \n",
       "2            20000.0  10+ years     63000.0   Fully Paid       MORTGAGE   \n",
       "3            35000.0  10+ years    110000.0      Current       MORTGAGE   \n",
       "4            10400.0    3 years    104433.0   Fully Paid       MORTGAGE   \n",
       "...              ...        ...         ...          ...            ...   \n",
       "2260694      24000.0    7 years     95000.0      Current       MORTGAGE   \n",
       "2260695      24000.0  10+ years    108000.0      Current       MORTGAGE   \n",
       "2260696      40000.0    9 years    227000.0      Current       MORTGAGE   \n",
       "2260697      24000.0    6 years    110000.0  Charged Off           RENT   \n",
       "2260698      14000.0  10+ years     95000.0      Current       MORTGAGE   \n",
       "\n",
       "         int_rate addr_state grade   issue_d             purpose    dti  \\\n",
       "0           13.99         PA     C  Dec-2015  debt_consolidation   5.91   \n",
       "1           11.99         SD     C  Dec-2015      small_business  16.06   \n",
       "2           10.78         IL     B  Dec-2015    home_improvement  10.78   \n",
       "3           14.85         NJ     C  Dec-2015  debt_consolidation  17.06   \n",
       "4           22.45         PA     F  Dec-2015      major_purchase  25.37   \n",
       "...           ...        ...   ...       ...                 ...    ...   \n",
       "2260694     12.79         AL     C  Oct-2016    home_improvement  19.61   \n",
       "2260695     10.49         UT     B  Oct-2016  debt_consolidation  34.94   \n",
       "2260696     10.49         CA     B  Oct-2016  debt_consolidation  12.75   \n",
       "2260697     14.49         FL     C  Oct-2016  debt_consolidation  18.30   \n",
       "2260698     14.49         TX     C  Oct-2016  debt_consolidation  23.36   \n",
       "\n",
       "               term zip_code  \n",
       "0         36 months    190xx  \n",
       "1         36 months    577xx  \n",
       "2         60 months    605xx  \n",
       "3         60 months    076xx  \n",
       "4         60 months    174xx  \n",
       "...             ...      ...  \n",
       "2260694   60 months    356xx  \n",
       "2260695   60 months    840xx  \n",
       "2260696   60 months    907xx  \n",
       "2260697   60 months    334xx  \n",
       "2260698   60 months    770xx  \n",
       "\n",
       "[2113643 rows x 13 columns]"
      ]
     },
     "execution_count": 18,
     "metadata": {},
     "output_type": "execute_result"
    }
   ],
   "source": [
    "loan2.dropna()"
   ]
  },
  {
   "cell_type": "code",
   "execution_count": 20,
   "id": "extra-roller",
   "metadata": {},
   "outputs": [],
   "source": [
    "def employment_length(text):\n",
    "    text = text.lower()\n",
    "    \n",
    "    if text == 'nan':\n",
    "        text = '0'\n",
    "    elif text == 'n/a':\n",
    "        text = '0'\n",
    "    elif text == '< 1 year':\n",
    "        text = '0.5'\n",
    "    elif text == '1 year':\n",
    "        text = '1'\n",
    "    elif text == '2 years':\n",
    "        text = '2'\n",
    "    elif text == '3 years':\n",
    "        text = '3'\n",
    "    elif text == '4 years':\n",
    "        text = '4'\n",
    "    elif text == '5 years':\n",
    "        text = '5'\n",
    "    elif text == '6 years':\n",
    "        text = '6'\n",
    "    elif text == '7 years':\n",
    "        text = '7'\n",
    "    elif text == '8 years':\n",
    "        text = '8'\n",
    "    elif text == '9 years':\n",
    "        text = '9'\n",
    "    elif text == '10+ years':\n",
    "        text = '10'\n",
    "            \n",
    "    return text"
   ]
  },
  {
   "cell_type": "code",
   "execution_count": 21,
   "id": "specified-ceremony",
   "metadata": {},
   "outputs": [],
   "source": [
    "loan2['emp_length'] = loan2['emp_length'].astype('str')\n",
    "loan2['emp_length'] = [employment_length(i) for i  in loan2['emp_length']]\n",
    "loan2['emp_length'] = loan2['emp_length'].astype('float')\n"
   ]
  },
  {
   "cell_type": "code",
   "execution_count": null,
   "id": "aging-subcommittee",
   "metadata": {},
   "outputs": [],
   "source": []
  },
  {
   "cell_type": "code",
   "execution_count": null,
   "id": "informative-conspiracy",
   "metadata": {},
   "outputs": [],
   "source": []
  },
  {
   "cell_type": "code",
   "execution_count": null,
   "id": "endangered-butler",
   "metadata": {},
   "outputs": [],
   "source": []
  }
 ],
 "metadata": {
  "kernelspec": {
   "display_name": "Python 3",
   "language": "python",
   "name": "python3"
  },
  "language_info": {
   "codemirror_mode": {
    "name": "ipython",
    "version": 3
   },
   "file_extension": ".py",
   "mimetype": "text/x-python",
   "name": "python",
   "nbconvert_exporter": "python",
   "pygments_lexer": "ipython3",
   "version": "3.8.5"
  },
  "toc": {
   "base_numbering": 1,
   "nav_menu": {},
   "number_sections": true,
   "sideBar": true,
   "skip_h1_title": false,
   "title_cell": "Table of Contents",
   "title_sidebar": "Contents",
   "toc_cell": true,
   "toc_position": {},
   "toc_section_display": true,
   "toc_window_display": false
  }
 },
 "nbformat": 4,
 "nbformat_minor": 5
}
